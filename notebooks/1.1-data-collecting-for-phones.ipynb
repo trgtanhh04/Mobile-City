{
 "cells": [
  {
   "cell_type": "markdown",
   "metadata": {},
   "source": [
    "<div style=\"text-align: center; background-color: #ADD8E6; font-family: 'Times New Roman', serif; color: white; padding: 20px; font-size: 30px; font-weight: bold; border-radius: 10px; box-shadow: 0px 6px 15px rgba(0, 0, 0, 0.2); transition: all 0.3s ease;\">\n",
    "    THE ANALYSIS OF THE MOBILE PHONE MARKET AT MOBILE CITY STORE\n",
    "</div>\n",
    "<style>\n",
    "    div:hover {\n",
    "        transform: scale(1.05);\n",
    "        box-shadow: 0px 10px 20px rgba(0, 0, 0, 0.3);\n",
    "    }\n",
    "</style>\n"
   ]
  },
  {
   "cell_type": "markdown",
   "metadata": {},
   "source": [
    "---"
   ]
  },
  {
   "cell_type": "markdown",
   "metadata": {},
   "source": [
    "<div style=\"text-align: center; background-color: #ADD8E6; font-family: 'Times New Roman', serif; color: white; padding: 25px; font-size: 20px; font-weight: bold; border-radius: 10px; box-shadow: 0px 6px 15px rgba(0, 0, 0, 0.2); transition: all 0.3s ease;\">\n",
    "    DATA COLLECTION\n",
    "</div>\n",
    "<style>\n",
    "    div:hover {\n",
    "        opacity: 0.8;\n",
    "    }\n",
    "</style>"
   ]
  },
  {
   "cell_type": "markdown",
   "metadata": {},
   "source": [
    "---"
   ]
  },
  {
   "cell_type": "markdown",
   "metadata": {},
   "source": [
    "# Thư viện"
   ]
  },
  {
   "cell_type": "markdown",
   "metadata": {},
   "source": [
    "Sử dụng Selenium kết hợp với BeautySoup để thu thập dữ liệu"
   ]
  },
  {
   "cell_type": "code",
   "execution_count": 1,
   "metadata": {},
   "outputs": [],
   "source": [
    "from selenium import webdriver\n",
    "# from selenium.webdriver.chrome.service import Service\n",
    "# from webdriver_manager.chrome import ChromeDriverManager\n",
    "from selenium.webdriver.common.by import By\n",
    "from selenium.common.exceptions import NoSuchElementException, ElementClickInterceptedException\n",
    "from selenium.webdriver.support.wait import WebDriverWait\n",
    "from selenium.webdriver.support import expected_conditions as EC\n",
    "\n",
    "import time\n",
    "from bs4 import BeautifulSoup\n",
    "import json\n",
    "from urllib.parse import urlparse\n",
    "import csv\n",
    "\n",
    "import pandas as pd"
   ]
  },
  {
   "cell_type": "markdown",
   "metadata": {},
   "source": [
    "# Lấy thời gian hiện tại và cài đặt trình duyệt"
   ]
  },
  {
   "cell_type": "code",
   "execution_count": 2,
   "metadata": {},
   "outputs": [
    {
     "name": "stdout",
     "output_type": "stream",
     "text": [
      "Thời gian bắt đầu thu thập: 2024-12-18 07:28:23\n"
     ]
    }
   ],
   "source": [
    "# Get current time\n",
    "current_time = time.strftime(\"%Y-%m-%d %H:%M:%S\", time.localtime())\n",
    "\n",
    "# Print the current time\n",
    "print(\"Thời gian bắt đầu thu thập:\", current_time)"
   ]
  },
  {
   "cell_type": "code",
   "execution_count": 3,
   "metadata": {},
   "outputs": [],
   "source": [
    "# Tạo instance của trình duyệt\n",
    "driver = webdriver.Chrome()\n",
    "\n",
    "# Phóng to trình duyệt\n",
    "driver.maximize_window()"
   ]
  },
  {
   "cell_type": "markdown",
   "metadata": {},
   "source": [
    "# Lấy đường dẫn đến từng trang điện thoại chi tiết từ file `links.csv`"
   ]
  },
  {
   "cell_type": "code",
   "execution_count": 4,
   "metadata": {},
   "outputs": [],
   "source": [
    "data = pd.read_csv(\"../data/links.csv\")\n",
    "links = data.links.to_list()"
   ]
  },
  {
   "cell_type": "code",
   "execution_count": 5,
   "metadata": {},
   "outputs": [],
   "source": [
    "def is_valid_url(url):\n",
    "    \"\"\"Check if the URL is valid.\"\"\"\n",
    "    parsed = urlparse(url)\n",
    "    return bool(parsed.scheme and parsed.netloc)"
   ]
  },
  {
   "cell_type": "markdown",
   "metadata": {},
   "source": [
    "# Thu thập các thuộc tính của từng sản phẩm"
   ]
  },
  {
   "cell_type": "code",
   "execution_count": 6,
   "metadata": {},
   "outputs": [],
   "source": [
    "product_data = []\n",
    "counter = 0  \n",
    "wait = WebDriverWait(driver, 10)"
   ]
  },
  {
   "cell_type": "markdown",
   "metadata": {},
   "source": [
    "> **Chạy ô dưới đây nhiều lần cho đến khi nào thu thập được hết toàn bộ sản phẩm thì thôi**\n",
    "\n",
    "Vì có trường hợp chạy mà mạng bị ngắt giữa chừng, hoặc driver bị crash, hoặc tự động ngắt kết nối notebook trong VSCode hay Google Colab,...\n",
    "\n",
    "Ở đây, ô bên dưới đã được chạy 2 lần thì hoàn thành thu thập (`Từ cell [6] đến cell [8]`)."
   ]
  },
  {
   "cell_type": "code",
   "execution_count": 8,
   "metadata": {},
   "outputs": [
    {
     "name": "stdout",
     "output_type": "stream",
     "text": [
      "Đã thu thập: 1444/1444 sản phẩm\r"
     ]
    }
   ],
   "source": [
    "for i in range(counter, len(links)):\n",
    "    links[i] = links[i].strip()  # Xóa khoảng trắng đầu và cuối\n",
    "    if not is_valid_url(links[i]):\n",
    "        print(f\"Invalid URL: {links[i]}\")\n",
    "        continue  # Skip invalid URLs\n",
    "        \n",
    "    driver.get(links[i])\n",
    "    # time.sleep(3)  # Chờ trang tải\n",
    "\n",
    "    # try:\n",
    "    #     # Wait until the element with the text \"TƯ VẤN MÁY CŨ\" appears\n",
    "    #     element = WebDriverWait(driver, 10).until(\n",
    "    #         EC.presence_of_element_located((By.XPATH, \"//*[contains(text(), 'TƯ VẤN MÁY CŨ')]\"))\n",
    "    #     )\n",
    "    #     # print(\"Element appeared!\")\n",
    "    # except:    \n",
    "    #     print(\"Element did not appear within the given time\")   \n",
    "    \n",
    "    # try:\n",
    "    #     # button = wait.until(EC.element_to_be_clickable((By.CLASS_NAME, 'altumcode-close')))\n",
    "    #     button = driver.find_elements(By.XPATH, '//button[@class=\"altumcode-close\"]')\n",
    "    #     for b in button:\n",
    "    #         b.click()\n",
    "    # except:\n",
    "    #     button = None\n",
    "\n",
    "    # Lấy HTML trang hiện tại\n",
    "    soup = BeautifulSoup(driver.page_source, 'html.parser')\n",
    "\n",
    "    # Thu thập tên sản phẩm\n",
    "    try:\n",
    "        product_title = soup.find(\"h1\", class_=\"title\").text.strip()\n",
    "    except AttributeError:\n",
    "        product_title = \"Không có tên sản phẩm\"\n",
    "\n",
    "    # Thu thập hãng điện thoại\n",
    "    second_li = driver.find_element(By.XPATH, '//ul[@itemscope]/li[2]/a/span')\n",
    "    brand = second_li.text.strip()\n",
    "\n",
    "    # Lấy thông tin về thời gian bảo hành\n",
    "    try:\n",
    "        warranty_text = soup.find('span', class_='warranty-content-default').get_text(strip=True)\n",
    "    except AttributeError:\n",
    "        warranty_text = \"Không có thông tin bảo hành\"\n",
    "\n",
    "    # Lấy thông số kỹ thuật\n",
    "    try:\n",
    "        specs_table = soup.find('div', class_='product-info-content').find('table')\n",
    "        specs = {}\n",
    "        if specs_table:\n",
    "            rows = specs_table.find_all('tr')\n",
    "            for row in rows:\n",
    "                cols = row.find_all('td')\n",
    "                if len(cols) == 2:\n",
    "                    specs[cols[0].text.strip()] = cols[1].text.strip()\n",
    "    except AttributeError:\n",
    "        specs = {\"Không có thông số kỹ thuật\": \"N/A\"}\n",
    "\n",
    "    # Thu thập thông tin đánh giá\n",
    "    try:\n",
    "        rating = soup.find('div', class_='comment-vote__star-number').get_text(strip=True)\n",
    "    except AttributeError:\n",
    "        rating = \"Không có đánh giá\"\n",
    "\n",
    "    # Thu thập thông tin số lượt đánh giá và hỏi đáp\n",
    "    try:\n",
    "        total_reviews = soup.find('div', class_='comment-vote__star-total').get_text(strip=True)\n",
    "        total_reviews = total_reviews.replace(\"đánh giá và hỏi đáp\", \"\").strip()\n",
    "    except AttributeError:\n",
    "        total_reviews = \"Không có thông tin đánh giá và hỏi đáp\"\n",
    "\n",
    "    ##### Màu sắc + Phiên bản bộ nhớ + Giá tương ứng\n",
    "\n",
    "    color_storage_price = []\n",
    "    color_items = driver.find_elements(By.CLASS_NAME, \"color-item.attribute-item\")\n",
    "    storage_items = driver.find_elements(By.CLASS_NAME, \"storage-item.attribute-item\")\n",
    "\n",
    "    if len(color_items) == 0 and len(storage_items) == 0:\n",
    "        soup = BeautifulSoup(driver.page_source, 'html.parser')\n",
    "        try:\n",
    "            price_new = soup.find(\"p\", class_=\"price\").text.strip()\n",
    "        except AttributeError:\n",
    "            price_new = \"Không có giá mới\"\n",
    "        try:\n",
    "            price_old = soup.find(\"p\", class_=\"price-old\").text.strip()\n",
    "        except AttributeError:\n",
    "            price_old = \"Không có giá cũ\"\n",
    "        color_storage_price.append([\"\", \"\", price_new, price_old])\n",
    "    elif len(color_items) == 0:\n",
    "        for storage in storage_items:\n",
    "            # storage.click()\n",
    "            while True:\n",
    "                try:\n",
    "                    storage.click()\n",
    "                    break\n",
    "                except:\n",
    "                    continue\n",
    "            storage_name = storage.text.strip()\n",
    "            soup = BeautifulSoup(driver.page_source, 'html.parser')\n",
    "            try:\n",
    "                price_new = soup.find(\"p\", class_=\"price\").text.strip()\n",
    "            except AttributeError:\n",
    "                price_new = \"Không có giá mới\"\n",
    "            try:\n",
    "                price_old = soup.find(\"p\", class_=\"price-old\").text.strip()\n",
    "            except AttributeError:\n",
    "                price_old = \"Không có giá cũ\"\n",
    "            color_storage_price.append([\"\", storage_name, price_new, price_old])\n",
    "    elif len(storage_items) == 0:\n",
    "        for color in color_items:\n",
    "            # color.click()\n",
    "            while True:\n",
    "                try:\n",
    "                    color.click()\n",
    "                    break\n",
    "                except:\n",
    "                    continue\n",
    "            color_name = color.get_attribute(\"data-title\")\n",
    "            soup = BeautifulSoup(driver.page_source, 'html.parser')\n",
    "            try:\n",
    "                price_new = soup.find(\"p\", class_=\"price\").text.strip()\n",
    "            except AttributeError:\n",
    "                price_new = \"Không có giá mới\"\n",
    "            try:\n",
    "                price_old = soup.find(\"p\", class_=\"price-old\").text.strip()\n",
    "            except AttributeError:\n",
    "                price_old = \"Không có giá cũ\"\n",
    "            color_storage_price.append([color_name, \"\", price_new, price_old])\n",
    "    else:\n",
    "        for color in color_items:\n",
    "            for storage in storage_items:\n",
    "                # color.click()\n",
    "                # storage.click()\n",
    "                while True:\n",
    "                    try:\n",
    "                        color.click()\n",
    "                        storage.click()\n",
    "                        break\n",
    "                    except:\n",
    "                        continue\n",
    "                color_name = color.get_attribute(\"data-title\")\n",
    "                storage_name = storage.text.strip()\n",
    "                soup = BeautifulSoup(driver.page_source, 'html.parser')\n",
    "                try:\n",
    "                    price_new = soup.find(\"p\", class_=\"price\").text.strip()\n",
    "                except AttributeError:\n",
    "                    price_new = \"Không có giá mới\"\n",
    "                try:\n",
    "                    price_old = soup.find(\"p\", class_=\"price-old\").text.strip()\n",
    "                except AttributeError:\n",
    "                    price_old = \"Không có giá cũ\"    \n",
    "                color_storage_price.append([color_name, storage_name, price_new, price_old])\n",
    "\n",
    "    # # Thu thập màu sắc\n",
    "    # try:\n",
    "    #     color_items = soup.find_all(\"div\", class_=\"color-item\")\n",
    "    #     colors = [color['data-title'] for color in color_items]\n",
    "    # except AttributeError:\n",
    "    #     colors = [\"Không có màu sắc\"]\n",
    "\n",
    "    # # Lấy thông tin về các phiên bản bộ nhớ\n",
    "    # try:\n",
    "    #     storage_items = soup.find_all('div', class_='storage-item attribute-item')\n",
    "    #     storage_options = [item.text.strip() for item in storage_items]\n",
    "    # except AttributeError:\n",
    "    #     storage_options = [\"Không có phiên bản bộ nhớ\"]\n",
    "\n",
    "    # # Thu thập giá sản phẩm (giá mới và giá cũ)\n",
    "    # try:\n",
    "    #     price_new = soup.find(\"p\", class_=\"price\").text.strip()\n",
    "    # except AttributeError:\n",
    "    #     price_new = \"Không có giá mới\"\n",
    "\n",
    "    # try:\n",
    "    #     price_old = soup.find(\"p\", class_=\"price-old\").text.strip()\n",
    "    # except AttributeError:\n",
    "    #     price_old = \"Không có giá cũ\"\n",
    "\n",
    "    #####\n",
    "\n",
    "    product_data.append({\n",
    "        \"Tên sản phẩm\": product_title,\n",
    "        \"Loại điện thoại\": brand,\n",
    "        # \"Giá mới\": price_new,\n",
    "        # \"Giá cũ\": price_old,\n",
    "        # \"Màu sắc\": \", \".join(colors),\n",
    "        # \"Các phiên bản bộ nhớ\": \", \".join(storage_options),\n",
    "        \"Màu sắc - Phiên bản bộ nhớ - Giá tương ứng\": color_storage_price,\n",
    "        \"Thời gian bảo hành\": warranty_text,\n",
    "        \"Thông số kỹ thuật\": json.dumps(specs, ensure_ascii=False),\n",
    "        \"Đánh giá\": rating,\n",
    "        \"Số lượt đánh giá và hỏi đáp\": total_reviews,\n",
    "        \"Đường dẫn\": links[i],\n",
    "    })\n",
    "    counter +=1\n",
    "    # if counter % 100 == 0:\n",
    "    #     print(f\"Đã thu thập thành công {counter} sản phẩm\")\n",
    "    print(f\"Đã thu thập: {counter}/{len(links)} sản phẩm\", end=\"\\r\")\n",
    "\n",
    "# In thông báo khi hoàn thành\n",
    "# print(\"Hoàn thành!!!\")"
   ]
  },
  {
   "cell_type": "code",
   "execution_count": 9,
   "metadata": {},
   "outputs": [
    {
     "name": "stdout",
     "output_type": "stream",
     "text": [
      "Thời gian kết thúc thu thập: 2024-12-18 09:17:23\n"
     ]
    }
   ],
   "source": [
    "# Get current time\n",
    "current_time = time.strftime(\"%Y-%m-%d %H:%M:%S\", time.localtime())\n",
    "\n",
    "# Print the current time\n",
    "print(\"Thời gian kết thúc thu thập:\", current_time)"
   ]
  },
  {
   "cell_type": "markdown",
   "metadata": {},
   "source": [
    "# Lưu dữ liệu thu thập được vào file `raw_data.csv`"
   ]
  },
  {
   "cell_type": "code",
   "execution_count": 10,
   "metadata": {},
   "outputs": [],
   "source": [
    "# Lưu dữ liệu vào file CSV\n",
    "with open('../data/raw_data.csv', 'w', newline='', encoding='utf-8-sig') as csvfile:\n",
    "    fieldnames = product_data[0].keys()  # Lấy các tên trường từ phần tử đầu tiên\n",
    "    writer = csv.DictWriter(csvfile, fieldnames=fieldnames)\n",
    "\n",
    "    writer.writeheader()\n",
    "    for data in product_data:\n",
    "        writer.writerow(data)\n",
    "\n",
    "# Đóng trình duyệt\n",
    "driver.quit()"
   ]
  },
  {
   "cell_type": "markdown",
   "metadata": {},
   "source": [
    "Dataset này bao gồm các thuộc tính:\n",
    "- `Index`: số thứ tự của đường dẫn đến từng điện thoại trên trang web MobileCity.\n",
    "- `Tên sản phẩm`: tên của từng điện thoại.\n",
    "- `Loại điện thoại`: chứa loại điện thoại được phân loại theo trang web MobileCity.\n",
    "- `Màu sắc - Phiên bản bộ nhớ - Giá tương ứng`: là một danh sách các mẫu điện thoại của cùng một tên điện thoại, mỗi phần tử trong danh sách cũng là một danh sách bao gồm màu sắc, phiên bản bộ nhớ và giá tương ứng của mẫu điện thoại đó.\n",
    "- `Thời gian bảo hành`: chứa thông tin bảo hành của điện thoại (đơn vị tháng/năm)\n",
    "- `Thông số kỹ thuật`: là một từ điển với các giá trị tương ứng với các khóa sau: Màn hình, Hệ điều hành, Camera sau, Camera trước, CPU, RAM, Bộ nhớ trong, Thẻ SIM, Dung lượng pin, Thiết kế.\n",
    "- `Đánh giá`: là đánh giá của điện thoại trên trang web MobileCity (từ 0-5 sao) ứng với mỗi tên điện thoại.\n",
    "- `Số lượt đánh giá và hỏi đáp`: là số lượng đánh giá và hỏi đáp trên trang web MobileCity ứng với mỗi tên điện thoại.\n",
    "- `Đường dẫn`: chứa đường dẫn đến tên điện thoại tương ứng trên trang web MobileCity.\n",
    "\n",
    "Tổng cộng có `1444` sản phẩm, tương ứng `1444` tên điện thoại khác nhau."
   ]
  }
 ],
 "metadata": {
  "kernelspec": {
   "display_name": "min_ds-env2",
   "language": "python",
   "name": "python3"
  },
  "language_info": {
   "codemirror_mode": {
    "name": "ipython",
    "version": 3
   },
   "file_extension": ".py",
   "mimetype": "text/x-python",
   "name": "python",
   "nbconvert_exporter": "python",
   "pygments_lexer": "ipython3",
   "version": "3.10.8"
  }
 },
 "nbformat": 4,
 "nbformat_minor": 2
}
