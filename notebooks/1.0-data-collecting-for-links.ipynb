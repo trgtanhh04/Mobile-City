{
 "cells": [
  {
   "cell_type": "markdown",
   "metadata": {},
   "source": [
    "<div style=\"text-align: center; background-color: #ADD8E6; font-family: 'Times New Roman', serif; color: white; padding: 20px; font-size: 30px; font-weight: bold; border-radius: 10px; box-shadow: 0px 6px 15px rgba(0, 0, 0, 0.2); transition: all 0.3s ease;\">\n",
    "    THE ANALYSIS OF THE MOBILE PHONE MARKET AT MOBILE CITY STORE\n",
    "</div>\n",
    "<style>\n",
    "    div:hover {\n",
    "        transform: scale(1.05);\n",
    "        box-shadow: 0px 10px 20px rgba(0, 0, 0, 0.3);\n",
    "    }\n",
    "</style>\n"
   ]
  },
  {
   "cell_type": "markdown",
   "metadata": {},
   "source": [
    "---"
   ]
  },
  {
   "cell_type": "markdown",
   "metadata": {},
   "source": [
    "<div style=\"text-align: center; background-color: #ADD8E6; font-family: 'Times New Roman', serif; color: white; padding: 25px; font-size: 20px; font-weight: bold; border-radius: 10px; box-shadow: 0px 6px 15px rgba(0, 0, 0, 0.2); transition: all 0.3s ease;\">\n",
    "    DATA COLLECTION\n",
    "</div>\n",
    "<style>\n",
    "    div:hover {\n",
    "        opacity: 0.8;\n",
    "    }\n",
    "</style>"
   ]
  },
  {
   "cell_type": "markdown",
   "metadata": {},
   "source": [
    "---"
   ]
  },
  {
   "cell_type": "markdown",
   "metadata": {},
   "source": [
    "# Thư viện"
   ]
  },
  {
   "cell_type": "markdown",
   "metadata": {},
   "source": [
    "Sử dụng Selenium kết hợp với BeautySoup để thu thập dữ liệu"
   ]
  },
  {
   "cell_type": "code",
   "execution_count": 1,
   "metadata": {},
   "outputs": [],
   "source": [
    "from selenium import webdriver\n",
    "from selenium.webdriver.chrome.service import Service\n",
    "# from webdriver_manager.chrome import ChromeDriverManager\n",
    "from selenium.webdriver.common.by import By\n",
    "from selenium.common.exceptions import NoSuchElementException, ElementClickInterceptedException\n",
    "import time\n",
    "from bs4 import BeautifulSoup\n",
    "import json\n",
    "from urllib.parse import urlparse\n",
    "import csv\n",
    "\n",
    "import pandas as pd"
   ]
  },
  {
   "cell_type": "markdown",
   "metadata": {},
   "source": [
    "# Lấy source page trang `https://mobilecity.vn/dien-thoai`"
   ]
  },
  {
   "cell_type": "code",
   "execution_count": 2,
   "metadata": {},
   "outputs": [
    {
     "name": "stdout",
     "output_type": "stream",
     "text": [
      "Thời gian bắt đầu thu thập: 2024-12-18 03:29:11\n"
     ]
    }
   ],
   "source": [
    "# Get current time\n",
    "current_time = time.strftime(\"%Y-%m-%d %H:%M:%S\", time.localtime())\n",
    "\n",
    "# Print the current time\n",
    "print(\"Thời gian bắt đầu thu thập:\", current_time)"
   ]
  },
  {
   "cell_type": "markdown",
   "metadata": {},
   "source": [
    "> Thu thập toàn bộ đường dẫn đến mỗi điện thoại bằng cách nhấn xem thêm cho đến khi nào tải được hết toàn bộ điện thoại (không thể nhấn xem thêm nữa)."
   ]
  },
  {
   "cell_type": "code",
   "execution_count": 3,
   "metadata": {},
   "outputs": [],
   "source": [
    "# Tạo instance của trình duyệt\n",
    "driver = webdriver.Chrome()\n",
    "\n",
    "driver.maximize_window()\n",
    "\n",
    "# Truy cập vào trang web\n",
    "url = \"https://mobilecity.vn/dien-thoai\"\n",
    "driver.get(url)\n",
    "\n",
    "# Hàm nhấn nút \"Xem thêm\" nếu có thể\n",
    "def click_see_more_button():\n",
    "    try:\n",
    "        # Tìm nút \"Xem thêm điện thoại\"\n",
    "        see_more_button = driver.find_element(By.ID, \"product_view_more\")\n",
    "        if see_more_button.is_displayed():\n",
    "            # Nhấn nút\n",
    "            see_more_button.click()\n",
    "            # Đợi một chút để trang tải thêm sản phẩm\n",
    "            time.sleep(2)\n",
    "            return True\n",
    "    except (NoSuchElementException, ElementClickInterceptedException):\n",
    "        # Không tìm thấy nút hoặc không thể nhấn\n",
    "        return False\n",
    "    return False\n",
    "\n",
    "# Liên tục nhấn nút \"Xem thêm\" cho đến khi không còn nút nào\n",
    "while click_see_more_button():\n",
    "    pass\n",
    "\n",
    "# Lấy source page sau khi đã nhấn hết các nút \"Xem thêm\"\n",
    "page_source = driver.page_source\n",
    "# Đóng trình duyệt\n",
    "driver.quit()"
   ]
  },
  {
   "cell_type": "markdown",
   "metadata": {},
   "source": [
    "# Thu thập đường dẫn đến từng trang điện thoại chi tiết"
   ]
  },
  {
   "cell_type": "code",
   "execution_count": 4,
   "metadata": {},
   "outputs": [],
   "source": [
    "# Phân tích cú pháp HTML\n",
    "soup = BeautifulSoup(page_source, \"html.parser\")\n",
    "\n",
    "# Tìm tất cả các sản phẩm\n",
    "product_items = soup.find_all(\"div\", class_=\"product-item-info\")\n",
    "\n",
    "# Lưu các liên kết vào danh sách\n",
    "links = []\n",
    "\n",
    "for item in product_items:\n",
    "    # Tìm thẻ <a> chứa liên kết đến chi tiết sản phẩm\n",
    "    link_tag = item.find(\"a\", href=True)\n",
    "    if link_tag:\n",
    "        # Lấy giá trị href\n",
    "        link = link_tag['href']\n",
    "        links.append(link)"
   ]
  },
  {
   "cell_type": "code",
   "execution_count": 5,
   "metadata": {},
   "outputs": [
    {
     "name": "stdout",
     "output_type": "stream",
     "text": [
      "Thời gian kết thúc thu thập: 2024-12-18 03:32:18\n"
     ]
    }
   ],
   "source": [
    "# Get current time\n",
    "current_time = time.strftime(\"%Y-%m-%d %H:%M:%S\", time.localtime())\n",
    "\n",
    "# Print the current time\n",
    "print(\"Thời gian kết thúc thu thập:\", current_time)"
   ]
  },
  {
   "cell_type": "markdown",
   "metadata": {},
   "source": [
    "# Lưu vào file `links.csv`"
   ]
  },
  {
   "cell_type": "code",
   "execution_count": 6,
   "metadata": {},
   "outputs": [],
   "source": [
    "df = pd.DataFrame(links, columns=['links'])\n",
    "df.to_csv(\"../data/links.csv\", index=True)"
   ]
  },
  {
   "cell_type": "markdown",
   "metadata": {},
   "source": [
    "Dataset này bao gồm 2 thuộc tính:\n",
    "- `Index`: số thứ tự của đường dẫn đến từng điện thoại trên trang web MobileCity.\n",
    "- `Links`: đường dẫn tương ứng với từng điện thoại trên trang web MobileCity."
   ]
  }
 ],
 "metadata": {
  "kernelspec": {
   "display_name": "venv",
   "language": "python",
   "name": "python3"
  },
  "language_info": {
   "codemirror_mode": {
    "name": "ipython",
    "version": 3
   },
   "file_extension": ".py",
   "mimetype": "text/x-python",
   "name": "python",
   "nbconvert_exporter": "python",
   "pygments_lexer": "ipython3",
   "version": "3.12.3"
  }
 },
 "nbformat": 4,
 "nbformat_minor": 2
}
