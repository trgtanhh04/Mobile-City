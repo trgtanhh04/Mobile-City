{
 "cells": [
  {
   "cell_type": "markdown",
   "metadata": {},
   "source": [
    "<div style=\"text-align: center; background-color: #ADD8E6; font-family: 'Times New Roman', serif; color: white; padding: 20px; font-size: 30px; font-weight: bold; border-radius: 10px; box-shadow: 0px 6px 15px rgba(0, 0, 0, 0.2); transition: all 0.3s ease;\">\n",
    "    THE ANALYSIS OF THE MOBILE PHONE MARKET AT MOBILE CITY STORE\n",
    "</div>\n",
    "<style>\n",
    "    div:hover {\n",
    "        transform: scale(1.05);\n",
    "        box-shadow: 0px 10px 20px rgba(0, 0, 0, 0.3);\n",
    "    }\n",
    "</style>\n"
   ]
  },
  {
   "cell_type": "markdown",
   "metadata": {},
   "source": [
    "---"
   ]
  },
  {
   "cell_type": "markdown",
   "metadata": {},
   "source": [
    "<div style=\"text-align: center; background-color: #ADD8E6; font-family: 'Times New Roman', serif; color: white; padding: 25px; font-size: 20px; font-weight: bold; border-radius: 10px; box-shadow: 0px 6px 15px rgba(0, 0, 0, 0.2); transition: all 0.3s ease;\">\n",
    "    DATA MODELLING\n",
    "</div>\n",
    "<style>\n",
    "    div:hover {\n",
    "        opacity: 0.8;\n",
    "    }\n",
    "</style>"
   ]
  },
  {
   "cell_type": "markdown",
   "metadata": {},
   "source": [
    "---"
   ]
  },
  {
   "cell_type": "markdown",
   "metadata": {},
   "source": [
    "## **Vấn đề được áp dụng Học máy:** \n",
    "## Dự đoán giá điện thoại dựa trên các đặc trưng quan trọng và cần thiết."
   ]
  },
  {
   "cell_type": "markdown",
   "metadata": {},
   "source": [
    "---"
   ]
  },
  {
   "cell_type": "markdown",
   "metadata": {},
   "source": [
    "## Thư viện:"
   ]
  },
  {
   "cell_type": "code",
   "execution_count": 327,
   "metadata": {},
   "outputs": [],
   "source": [
    "import numpy as np\n",
    "import pandas as pd\n",
    "import matplotlib.pyplot as plt\n",
    "\n",
    "from xgboost import XGBRegressor\n",
    "from sklearn.tree import DecisionTreeRegressor\n",
    "from sklearn.ensemble import RandomForestRegressor\n",
    "\n",
    "from sklearn.preprocessing import LabelEncoder\n",
    "from sklearn.model_selection import train_test_split\n",
    "from sklearn.metrics import mean_absolute_error, mean_squared_error, r2_score\n",
    "\n",
    "import ast\n",
    "import time"
   ]
  },
  {
   "cell_type": "markdown",
   "metadata": {},
   "source": [
    "## Đọc dữ liệu từ file CSV:"
   ]
  },
  {
   "cell_type": "code",
   "execution_count": 328,
   "metadata": {},
   "outputs": [],
   "source": [
    "df = pd.read_csv(\"../data/processed_data.csv\", index_col=0)"
   ]
  },
  {
   "cell_type": "code",
   "execution_count": 329,
   "metadata": {},
   "outputs": [
    {
     "data": {
      "text/html": [
       "<div>\n",
       "<style scoped>\n",
       "    .dataframe tbody tr th:only-of-type {\n",
       "        vertical-align: middle;\n",
       "    }\n",
       "\n",
       "    .dataframe tbody tr th {\n",
       "        vertical-align: top;\n",
       "    }\n",
       "\n",
       "    .dataframe thead th {\n",
       "        text-align: right;\n",
       "    }\n",
       "</style>\n",
       "<table border=\"1\" class=\"dataframe\">\n",
       "  <thead>\n",
       "    <tr style=\"text-align: right;\">\n",
       "      <th></th>\n",
       "      <th>ten</th>\n",
       "      <th>loai_dien_thoai</th>\n",
       "      <th>thoi_gian_bao_hanh</th>\n",
       "      <th>danh_gia</th>\n",
       "      <th>so_luong_binh_luan</th>\n",
       "      <th>duong_dan</th>\n",
       "      <th>mau_sac</th>\n",
       "      <th>gia_moi</th>\n",
       "      <th>gia_cu</th>\n",
       "      <th>he_dieu_hanh</th>\n",
       "      <th>...</th>\n",
       "      <th>la_dien_thoai_cu</th>\n",
       "      <th>kich_thuoc_man_hinh</th>\n",
       "      <th>tan_so_quet</th>\n",
       "      <th>do_sang_man_hinh</th>\n",
       "      <th>loai_man_hinh</th>\n",
       "      <th>so_the_sim</th>\n",
       "      <th>loai_pin</th>\n",
       "      <th>cong_suat_sac</th>\n",
       "      <th>do_phan_giai_cam_sau</th>\n",
       "      <th>do_phan_giai_cam_truoc</th>\n",
       "    </tr>\n",
       "  </thead>\n",
       "  <tbody>\n",
       "    <tr>\n",
       "      <th>1949</th>\n",
       "      <td>Điện thoại Xiaomi Redmi Note 12 Pro 4G (Chính ...</td>\n",
       "      <td>Redmi</td>\n",
       "      <td>12.0</td>\n",
       "      <td>4.8</td>\n",
       "      <td>6</td>\n",
       "      <td>https://mobilecity.vn/dien-thoai/xiaomi-redmi-...</td>\n",
       "      <td>Trắng</td>\n",
       "      <td>5650000.0</td>\n",
       "      <td>6990000.0</td>\n",
       "      <td>Android 11</td>\n",
       "      <td>...</td>\n",
       "      <td>False</td>\n",
       "      <td>6.67</td>\n",
       "      <td>120.0</td>\n",
       "      <td>700.0</td>\n",
       "      <td>AMOLED</td>\n",
       "      <td>2</td>\n",
       "      <td>Li-Po</td>\n",
       "      <td>67.0</td>\n",
       "      <td>[108.0, 8.0, 2.0, 2.0]</td>\n",
       "      <td>[16.0]</td>\n",
       "    </tr>\n",
       "    <tr>\n",
       "      <th>1488</th>\n",
       "      <td>Điện thoại Xiaomi POCO M6 4G Chính hãng (Helio...</td>\n",
       "      <td>POCO</td>\n",
       "      <td>12.0</td>\n",
       "      <td>5.0</td>\n",
       "      <td>0</td>\n",
       "      <td>https://mobilecity.vn/dien-thoai/xiaomi-poco-m...</td>\n",
       "      <td>Tím</td>\n",
       "      <td>4250000.0</td>\n",
       "      <td>6290000.0</td>\n",
       "      <td>Khác</td>\n",
       "      <td>...</td>\n",
       "      <td>False</td>\n",
       "      <td>6.79</td>\n",
       "      <td>90.0</td>\n",
       "      <td>NaN</td>\n",
       "      <td>LCD</td>\n",
       "      <td>2</td>\n",
       "      <td>NaN</td>\n",
       "      <td>33.0</td>\n",
       "      <td>[108.0, 2.0]</td>\n",
       "      <td>[13.0]</td>\n",
       "    </tr>\n",
       "    <tr>\n",
       "      <th>7909</th>\n",
       "      <td>Điện thoại Samsung Galaxy S23 Ultra (Chính hãn...</td>\n",
       "      <td>Samsung Chính hãng</td>\n",
       "      <td>12.0</td>\n",
       "      <td>5.0</td>\n",
       "      <td>34</td>\n",
       "      <td>https://mobilecity.vn/dien-thoai/samsung-galax...</td>\n",
       "      <td>Xanh dương</td>\n",
       "      <td>20750000.0</td>\n",
       "      <td>19950000.0</td>\n",
       "      <td>Android 13</td>\n",
       "      <td>...</td>\n",
       "      <td>False</td>\n",
       "      <td>6.80</td>\n",
       "      <td>120.0</td>\n",
       "      <td>1750.0</td>\n",
       "      <td>AMOLED</td>\n",
       "      <td>2</td>\n",
       "      <td>Li-Ion</td>\n",
       "      <td>45.0</td>\n",
       "      <td>[200.0, 10.0, 10.0, 12.0]</td>\n",
       "      <td>[12.0]</td>\n",
       "    </tr>\n",
       "  </tbody>\n",
       "</table>\n",
       "<p>3 rows × 26 columns</p>\n",
       "</div>"
      ],
      "text/plain": [
       "                                                    ten     loai_dien_thoai  \\\n",
       "1949  Điện thoại Xiaomi Redmi Note 12 Pro 4G (Chính ...               Redmi   \n",
       "1488  Điện thoại Xiaomi POCO M6 4G Chính hãng (Helio...                POCO   \n",
       "7909  Điện thoại Samsung Galaxy S23 Ultra (Chính hãn...  Samsung Chính hãng   \n",
       "\n",
       "      thoi_gian_bao_hanh  danh_gia  so_luong_binh_luan  \\\n",
       "1949                12.0       4.8                   6   \n",
       "1488                12.0       5.0                   0   \n",
       "7909                12.0       5.0                  34   \n",
       "\n",
       "                                              duong_dan     mau_sac  \\\n",
       "1949  https://mobilecity.vn/dien-thoai/xiaomi-redmi-...       Trắng   \n",
       "1488  https://mobilecity.vn/dien-thoai/xiaomi-poco-m...         Tím   \n",
       "7909  https://mobilecity.vn/dien-thoai/samsung-galax...  Xanh dương   \n",
       "\n",
       "         gia_moi      gia_cu he_dieu_hanh  ... la_dien_thoai_cu  \\\n",
       "1949   5650000.0   6990000.0   Android 11  ...            False   \n",
       "1488   4250000.0   6290000.0         Khác  ...            False   \n",
       "7909  20750000.0  19950000.0   Android 13  ...            False   \n",
       "\n",
       "      kich_thuoc_man_hinh  tan_so_quet  do_sang_man_hinh loai_man_hinh  \\\n",
       "1949                 6.67        120.0             700.0        AMOLED   \n",
       "1488                 6.79         90.0               NaN           LCD   \n",
       "7909                 6.80        120.0            1750.0        AMOLED   \n",
       "\n",
       "     so_the_sim  loai_pin  cong_suat_sac       do_phan_giai_cam_sau  \\\n",
       "1949          2     Li-Po           67.0     [108.0, 8.0, 2.0, 2.0]   \n",
       "1488          2       NaN           33.0               [108.0, 2.0]   \n",
       "7909          2    Li-Ion           45.0  [200.0, 10.0, 10.0, 12.0]   \n",
       "\n",
       "      do_phan_giai_cam_truoc  \n",
       "1949                  [16.0]  \n",
       "1488                  [13.0]  \n",
       "7909                  [12.0]  \n",
       "\n",
       "[3 rows x 26 columns]"
      ]
     },
     "execution_count": 329,
     "metadata": {},
     "output_type": "execute_result"
    }
   ],
   "source": [
    "df.sample(3)"
   ]
  },
  {
   "cell_type": "markdown",
   "metadata": {},
   "source": [
    "## Tiền xử lý dữ liệu cho các mô hình:"
   ]
  },
  {
   "cell_type": "markdown",
   "metadata": {},
   "source": [
    "### Loại bỏ các cột không ảnh hưởng đến giá dựa vào kiến thức:"
   ]
  },
  {
   "cell_type": "markdown",
   "metadata": {},
   "source": [
    "#### Loại bỏ cột `ten`, `duong_dan`, `loai_dien_thoai`, `mau_sac`, `thiet_ke`, `cpu`:"
   ]
  },
  {
   "cell_type": "markdown",
   "metadata": {},
   "source": [
    "- `ten` là tên của các mẫu điện thoại."
   ]
  },
  {
   "cell_type": "code",
   "execution_count": 330,
   "metadata": {},
   "outputs": [],
   "source": [
    "# df = df.drop(columns=['ten'])"
   ]
  },
  {
   "cell_type": "markdown",
   "metadata": {},
   "source": [
    "- `duong_dan` là liên kết đến trang thông tin của điện thoại trên website."
   ]
  },
  {
   "cell_type": "code",
   "execution_count": 331,
   "metadata": {},
   "outputs": [],
   "source": [
    "df = df.drop(columns=['duong_dan'])"
   ]
  },
  {
   "cell_type": "markdown",
   "metadata": {},
   "source": [
    "- `loai_dien_thoai` lưu thông tin cụ thể hơn cho `hang_dien_thoai`, không ảnh hưởng đến giá."
   ]
  },
  {
   "cell_type": "code",
   "execution_count": 332,
   "metadata": {},
   "outputs": [],
   "source": [
    "df = df.drop(columns=['loai_dien_thoai'])"
   ]
  },
  {
   "cell_type": "markdown",
   "metadata": {},
   "source": [
    "- `mau_sac` lưu các màu sắc khác nhau của từng mẫu điện thoại, không ảnh hưởng đến giá."
   ]
  },
  {
   "cell_type": "code",
   "execution_count": 333,
   "metadata": {},
   "outputs": [],
   "source": [
    "df = df.drop(columns=['mau_sac'])"
   ]
  },
  {
   "cell_type": "markdown",
   "metadata": {},
   "source": [
    "- `thiet_ke` mô tả cấu tạo của một chiếc điện thoại, không ảnh hưởng đến giá."
   ]
  },
  {
   "cell_type": "code",
   "execution_count": 334,
   "metadata": {},
   "outputs": [],
   "source": [
    "df = df.drop(columns=['thiet_ke'])"
   ]
  },
  {
   "cell_type": "markdown",
   "metadata": {},
   "source": [
    "- `cpu` trong bộ dữ liệu này cũng là một cột không ảnh hưởng đến giá."
   ]
  },
  {
   "cell_type": "code",
   "execution_count": 335,
   "metadata": {},
   "outputs": [],
   "source": [
    "df = df.drop(columns=['cpu'])"
   ]
  },
  {
   "cell_type": "markdown",
   "metadata": {},
   "source": [
    "#### Loại bỏ các dòng trùng lặp:"
   ]
  },
  {
   "cell_type": "code",
   "execution_count": 336,
   "metadata": {},
   "outputs": [
    {
     "name": "stdout",
     "output_type": "stream",
     "text": [
      "Số dòng trùng lặp hiện tại là: 5542\n"
     ]
    }
   ],
   "source": [
    "print(f\"Số dòng trùng lặp hiện tại là: {df.duplicated().sum()}\")"
   ]
  },
  {
   "cell_type": "code",
   "execution_count": 337,
   "metadata": {},
   "outputs": [],
   "source": [
    "# Loại bỏ dòng trùng lặp\n",
    "df = df.drop_duplicates()"
   ]
  },
  {
   "cell_type": "code",
   "execution_count": 338,
   "metadata": {},
   "outputs": [
    {
     "name": "stdout",
     "output_type": "stream",
     "text": [
      "Số dòng trùng lặp hiện tại là: 0\n"
     ]
    }
   ],
   "source": [
    "print(f\"Số dòng trùng lặp hiện tại là: {df.duplicated().sum()}\")"
   ]
  },
  {
   "cell_type": "markdown",
   "metadata": {},
   "source": [
    "### Loại bỏ các cột dựa vào phân tích:"
   ]
  },
  {
   "cell_type": "markdown",
   "metadata": {},
   "source": [
    "#### Xem tỷ lệ dữ liệu thiếu ở của các thuộc tính hiện tại:"
   ]
  },
  {
   "cell_type": "code",
   "execution_count": 339,
   "metadata": {},
   "outputs": [],
   "source": [
    "def missing_ratio(col):\n",
    "    return (col.isna().mean() * 100).round(1)"
   ]
  },
  {
   "cell_type": "code",
   "execution_count": 340,
   "metadata": {},
   "outputs": [
    {
     "data": {
      "text/html": [
       "<div>\n",
       "<style scoped>\n",
       "    .dataframe tbody tr th:only-of-type {\n",
       "        vertical-align: middle;\n",
       "    }\n",
       "\n",
       "    .dataframe tbody tr th {\n",
       "        vertical-align: top;\n",
       "    }\n",
       "\n",
       "    .dataframe thead th {\n",
       "        text-align: right;\n",
       "    }\n",
       "</style>\n",
       "<table border=\"1\" class=\"dataframe\">\n",
       "  <thead>\n",
       "    <tr style=\"text-align: right;\">\n",
       "      <th></th>\n",
       "      <th>Features</th>\n",
       "      <th>Missing ratio</th>\n",
       "    </tr>\n",
       "  </thead>\n",
       "  <tbody>\n",
       "    <tr>\n",
       "      <th>0</th>\n",
       "      <td>gia_cu</td>\n",
       "      <td>43.4</td>\n",
       "    </tr>\n",
       "    <tr>\n",
       "      <th>1</th>\n",
       "      <td>do_sang_man_hinh</td>\n",
       "      <td>42.6</td>\n",
       "    </tr>\n",
       "    <tr>\n",
       "      <th>2</th>\n",
       "      <td>loai_pin</td>\n",
       "      <td>27.9</td>\n",
       "    </tr>\n",
       "    <tr>\n",
       "      <th>3</th>\n",
       "      <td>tan_so_quet</td>\n",
       "      <td>24.8</td>\n",
       "    </tr>\n",
       "    <tr>\n",
       "      <th>4</th>\n",
       "      <td>gia_moi</td>\n",
       "      <td>19.2</td>\n",
       "    </tr>\n",
       "    <tr>\n",
       "      <th>5</th>\n",
       "      <td>cong_suat_sac</td>\n",
       "      <td>7.5</td>\n",
       "    </tr>\n",
       "    <tr>\n",
       "      <th>6</th>\n",
       "      <td>bo_nho_trong</td>\n",
       "      <td>7.5</td>\n",
       "    </tr>\n",
       "    <tr>\n",
       "      <th>7</th>\n",
       "      <td>kich_thuoc_man_hinh</td>\n",
       "      <td>5.8</td>\n",
       "    </tr>\n",
       "    <tr>\n",
       "      <th>8</th>\n",
       "      <td>loai_man_hinh</td>\n",
       "      <td>5.6</td>\n",
       "    </tr>\n",
       "    <tr>\n",
       "      <th>9</th>\n",
       "      <td>dung_luong_pin</td>\n",
       "      <td>2.4</td>\n",
       "    </tr>\n",
       "    <tr>\n",
       "      <th>10</th>\n",
       "      <td>ram</td>\n",
       "      <td>0.5</td>\n",
       "    </tr>\n",
       "    <tr>\n",
       "      <th>11</th>\n",
       "      <td>ten</td>\n",
       "      <td>0.0</td>\n",
       "    </tr>\n",
       "    <tr>\n",
       "      <th>12</th>\n",
       "      <td>do_phan_giai_cam_sau</td>\n",
       "      <td>0.0</td>\n",
       "    </tr>\n",
       "    <tr>\n",
       "      <th>13</th>\n",
       "      <td>so_the_sim</td>\n",
       "      <td>0.0</td>\n",
       "    </tr>\n",
       "    <tr>\n",
       "      <th>14</th>\n",
       "      <td>hang_dien_thoai</td>\n",
       "      <td>0.0</td>\n",
       "    </tr>\n",
       "    <tr>\n",
       "      <th>15</th>\n",
       "      <td>la_dien_thoai_cu</td>\n",
       "      <td>0.0</td>\n",
       "    </tr>\n",
       "    <tr>\n",
       "      <th>16</th>\n",
       "      <td>thoi_gian_bao_hanh</td>\n",
       "      <td>0.0</td>\n",
       "    </tr>\n",
       "    <tr>\n",
       "      <th>17</th>\n",
       "      <td>he_dieu_hanh</td>\n",
       "      <td>0.0</td>\n",
       "    </tr>\n",
       "    <tr>\n",
       "      <th>18</th>\n",
       "      <td>so_luong_binh_luan</td>\n",
       "      <td>0.0</td>\n",
       "    </tr>\n",
       "    <tr>\n",
       "      <th>19</th>\n",
       "      <td>danh_gia</td>\n",
       "      <td>0.0</td>\n",
       "    </tr>\n",
       "    <tr>\n",
       "      <th>20</th>\n",
       "      <td>do_phan_giai_cam_truoc</td>\n",
       "      <td>0.0</td>\n",
       "    </tr>\n",
       "  </tbody>\n",
       "</table>\n",
       "</div>"
      ],
      "text/plain": [
       "                  Features  Missing ratio\n",
       "0                   gia_cu           43.4\n",
       "1         do_sang_man_hinh           42.6\n",
       "2                 loai_pin           27.9\n",
       "3              tan_so_quet           24.8\n",
       "4                  gia_moi           19.2\n",
       "5            cong_suat_sac            7.5\n",
       "6             bo_nho_trong            7.5\n",
       "7      kich_thuoc_man_hinh            5.8\n",
       "8            loai_man_hinh            5.6\n",
       "9           dung_luong_pin            2.4\n",
       "10                     ram            0.5\n",
       "11                     ten            0.0\n",
       "12    do_phan_giai_cam_sau            0.0\n",
       "13              so_the_sim            0.0\n",
       "14         hang_dien_thoai            0.0\n",
       "15        la_dien_thoai_cu            0.0\n",
       "16      thoi_gian_bao_hanh            0.0\n",
       "17            he_dieu_hanh            0.0\n",
       "18      so_luong_binh_luan            0.0\n",
       "19                danh_gia            0.0\n",
       "20  do_phan_giai_cam_truoc            0.0"
      ]
     },
     "execution_count": 340,
     "metadata": {},
     "output_type": "execute_result"
    }
   ],
   "source": [
    "missing_ratio_df = df.apply(missing_ratio).sort_values(ascending=False)\n",
    "missing_ratio_df = missing_ratio_df.reset_index()\n",
    "missing_ratio_df.columns = [\"Features\", \"Missing ratio\"]\n",
    "missing_ratio_df"
   ]
  },
  {
   "cell_type": "markdown",
   "metadata": {},
   "source": [
    "- Nhận thấy rằng cột `do_sang_man_hinh` và `gia_cu` có tỉ lệ các giá trị thiếu rất cao so với phần còn lại. Ta sẽ loại bỏ 2 cột này:"
   ]
  },
  {
   "cell_type": "code",
   "execution_count": 341,
   "metadata": {},
   "outputs": [],
   "source": [
    "df = df.drop(columns=[\"gia_cu\", \"do_sang_man_hinh\"])"
   ]
  },
  {
   "cell_type": "markdown",
   "metadata": {},
   "source": [
    "#### Loại bỏ các hàng tồn tại ít nhất một giá trị NaN."
   ]
  },
  {
   "cell_type": "markdown",
   "metadata": {},
   "source": [
    "- Mục đích: để giữ tính thực tế của dữ liệu, chúng em không điền giữ liệu thiếu mà sẽ xóa đi."
   ]
  },
  {
   "cell_type": "code",
   "execution_count": 342,
   "metadata": {},
   "outputs": [],
   "source": [
    "df = df.dropna()"
   ]
  },
  {
   "cell_type": "markdown",
   "metadata": {},
   "source": [
    "#### Xem thông tin của dữ liệu hiện tại:"
   ]
  },
  {
   "cell_type": "code",
   "execution_count": 343,
   "metadata": {},
   "outputs": [
    {
     "name": "stdout",
     "output_type": "stream",
     "text": [
      "<class 'pandas.core.frame.DataFrame'>\n",
      "Int64Index: 1577 entries, 18 to 8532\n",
      "Data columns (total 19 columns):\n",
      " #   Column                  Non-Null Count  Dtype  \n",
      "---  ------                  --------------  -----  \n",
      " 0   ten                     1577 non-null   object \n",
      " 1   thoi_gian_bao_hanh      1577 non-null   float64\n",
      " 2   danh_gia                1577 non-null   float64\n",
      " 3   so_luong_binh_luan      1577 non-null   int64  \n",
      " 4   gia_moi                 1577 non-null   float64\n",
      " 5   he_dieu_hanh            1577 non-null   object \n",
      " 6   ram                     1577 non-null   float64\n",
      " 7   bo_nho_trong            1577 non-null   float64\n",
      " 8   dung_luong_pin          1577 non-null   float64\n",
      " 9   hang_dien_thoai         1577 non-null   object \n",
      " 10  la_dien_thoai_cu        1577 non-null   bool   \n",
      " 11  kich_thuoc_man_hinh     1577 non-null   float64\n",
      " 12  tan_so_quet             1577 non-null   float64\n",
      " 13  loai_man_hinh           1577 non-null   object \n",
      " 14  so_the_sim              1577 non-null   int64  \n",
      " 15  loai_pin                1577 non-null   object \n",
      " 16  cong_suat_sac           1577 non-null   float64\n",
      " 17  do_phan_giai_cam_sau    1577 non-null   object \n",
      " 18  do_phan_giai_cam_truoc  1577 non-null   object \n",
      "dtypes: bool(1), float64(9), int64(2), object(7)\n",
      "memory usage: 235.6+ KB\n"
     ]
    }
   ],
   "source": [
    "df.info()"
   ]
  },
  {
   "cell_type": "markdown",
   "metadata": {},
   "source": [
    "#### Xử lý các cột non-numeric:"
   ]
  },
  {
   "cell_type": "markdown",
   "metadata": {},
   "source": [
    "##### Trước hết ta cần chuyển các thuộc tính có kiểu category về kiểu số:"
   ]
  },
  {
   "cell_type": "code",
   "execution_count": 344,
   "metadata": {},
   "outputs": [
    {
     "name": "stdout",
     "output_type": "stream",
     "text": [
      "<class 'pandas.core.frame.DataFrame'>\n",
      "Int64Index: 1577 entries, 18 to 8532\n",
      "Data columns (total 7 columns):\n",
      " #   Column                  Non-Null Count  Dtype \n",
      "---  ------                  --------------  ----- \n",
      " 0   ten                     1577 non-null   object\n",
      " 1   he_dieu_hanh            1577 non-null   object\n",
      " 2   hang_dien_thoai         1577 non-null   object\n",
      " 3   loai_man_hinh           1577 non-null   object\n",
      " 4   loai_pin                1577 non-null   object\n",
      " 5   do_phan_giai_cam_sau    1577 non-null   object\n",
      " 6   do_phan_giai_cam_truoc  1577 non-null   object\n",
      "dtypes: object(7)\n",
      "memory usage: 98.6+ KB\n"
     ]
    }
   ],
   "source": [
    "df.select_dtypes(include=['object']).info()"
   ]
  },
  {
   "cell_type": "markdown",
   "metadata": {},
   "source": [
    "- Tách cột `he_dieu_hanh` thành 2 cột `Android` và `iOS`:"
   ]
  },
  {
   "cell_type": "code",
   "execution_count": 345,
   "metadata": {},
   "outputs": [
    {
     "data": {
      "text/plain": [
       "array(['Android 13', 'Android 12', 'Android 11', 'Android 14',\n",
       "       'Android 10', 'Android 15', 'iOS 15', 'iOS 16', 'iOS 17', 'Khác',\n",
       "       'iOS 18', 'Android 9'], dtype=object)"
      ]
     },
     "execution_count": 345,
     "metadata": {},
     "output_type": "execute_result"
    }
   ],
   "source": [
    "df['he_dieu_hanh'].unique()"
   ]
  },
  {
   "cell_type": "code",
   "execution_count": 346,
   "metadata": {},
   "outputs": [],
   "source": [
    "def extract_os_version(os, os_type):\n",
    "    if os.startswith(os_type):\n",
    "        return int(os.split(\" \")[1])  # Lấy phiên bản (phần số)\n",
    "    return 0  # Nếu không phải hệ điều hành đó, trả về 0"
   ]
  },
  {
   "cell_type": "code",
   "execution_count": 347,
   "metadata": {},
   "outputs": [],
   "source": [
    "# Thêm 2 cột mới thay cho cột he_dieu_hanh\n",
    "df['Android'] = df['he_dieu_hanh'].apply(lambda x: extract_os_version(x, 'Android'))\n",
    "df['iOS'] = df['he_dieu_hanh'].apply(lambda x: extract_os_version(x, 'iOS'))"
   ]
  },
  {
   "cell_type": "code",
   "execution_count": 348,
   "metadata": {},
   "outputs": [],
   "source": [
    "# Xóa cột he_dieu_hanh\n",
    "df = df.drop(columns=['he_dieu_hanh'])"
   ]
  },
  {
   "cell_type": "markdown",
   "metadata": {},
   "source": [
    "- Cột `do_phan_giai_cam_sau` và `do_phan_giai_cam_truoc`:"
   ]
  },
  {
   "cell_type": "code",
   "execution_count": 349,
   "metadata": {},
   "outputs": [
    {
     "data": {
      "text/plain": [
       "7200      [108.0, 8.0, 2.0]\n",
       "796     [50.0, 200.0, 50.0]\n",
       "7139       [64.0, 8.0, 2.0]\n",
       "1973       [54.0, 8.0, 2.0]\n",
       "2421       [50.0, 8.0, 2.0]\n",
       "Name: do_phan_giai_cam_sau, dtype: object"
      ]
     },
     "execution_count": 349,
     "metadata": {},
     "output_type": "execute_result"
    }
   ],
   "source": [
    "df['do_phan_giai_cam_sau'].sample(5)"
   ]
  },
  {
   "cell_type": "code",
   "execution_count": 350,
   "metadata": {},
   "outputs": [
    {
     "data": {
      "text/plain": [
       "1771    [16.0]\n",
       "6200    [16.0]\n",
       "6571    [20.0]\n",
       "5060    [12.0]\n",
       "7189    [20.0]\n",
       "Name: do_phan_giai_cam_truoc, dtype: object"
      ]
     },
     "execution_count": 350,
     "metadata": {},
     "output_type": "execute_result"
    }
   ],
   "source": [
    "df['do_phan_giai_cam_truoc'].sample(5)"
   ]
  },
  {
   "cell_type": "markdown",
   "metadata": {},
   "source": [
    "- Nhận xét:\n",
    "    - 2 cột trên lưu trữ danh sách thông số của từng camera ở trước và sau của mỗi điện thoại.\n",
    "    - Ta sẽ chuyển 2 cột này về dạng số bằng cách cộng tổng các số trong mỗi danh sách."
   ]
  },
  {
   "cell_type": "code",
   "execution_count": 351,
   "metadata": {},
   "outputs": [],
   "source": [
    "df['do_phan_giai_cam_sau'] = df['do_phan_giai_cam_sau'].apply(ast.literal_eval)\n",
    "df['do_phan_giai_cam_sau'] = df['do_phan_giai_cam_sau'].apply(sum)"
   ]
  },
  {
   "cell_type": "code",
   "execution_count": 352,
   "metadata": {},
   "outputs": [],
   "source": [
    "df['do_phan_giai_cam_truoc'] = df['do_phan_giai_cam_truoc'].apply(ast.literal_eval)\n",
    "df['do_phan_giai_cam_truoc'] = df['do_phan_giai_cam_truoc'].apply(sum)"
   ]
  },
  {
   "cell_type": "markdown",
   "metadata": {},
   "source": [
    "- Cột `hang_dien_thoai`, `loai_man_hinh`, `loai_pin`:"
   ]
  },
  {
   "cell_type": "code",
   "execution_count": 353,
   "metadata": {},
   "outputs": [
    {
     "data": {
      "text/plain": [
       "array(['Xiaomi', 'Samsung', 'Realme', 'Vivo', 'Nubia', 'iPhone', 'ZTE',\n",
       "       'Tecno', 'itel', 'Motorola', 'Google', 'Honor', 'Oppo', 'Infinix',\n",
       "       'OnePlus', 'Bphone', 'BLU', 'Ulefone', 'Meizu', 'Lenovo', 'Asus',\n",
       "       'Nothing', 'Sony', 'Unihertz', 'Fairphone', 'NIO', 'Red', 'POCO'],\n",
       "      dtype=object)"
      ]
     },
     "execution_count": 353,
     "metadata": {},
     "output_type": "execute_result"
    }
   ],
   "source": [
    "df['hang_dien_thoai'].unique()"
   ]
  },
  {
   "cell_type": "code",
   "execution_count": 354,
   "metadata": {},
   "outputs": [
    {
     "data": {
      "text/plain": [
       "array(['LCD', 'OLED', 'AMOLED'], dtype=object)"
      ]
     },
     "execution_count": 354,
     "metadata": {},
     "output_type": "execute_result"
    }
   ],
   "source": [
    "df['loai_man_hinh'].unique()"
   ]
  },
  {
   "cell_type": "code",
   "execution_count": 355,
   "metadata": {},
   "outputs": [
    {
     "data": {
      "text/plain": [
       "array(['Li-Po', 'Li-Ion', 'Si/C'], dtype=object)"
      ]
     },
     "execution_count": 355,
     "metadata": {},
     "output_type": "execute_result"
    }
   ],
   "source": [
    "df['loai_pin'].unique()"
   ]
  },
  {
   "cell_type": "markdown",
   "metadata": {},
   "source": [
    "- Nhận xét:\n",
    "    - Các cột này gồm các giá trị không có mối quan hệ thứ tự.\n",
    "    - Do đó dùng OneHotEncoder để chuyển đổi."
   ]
  },
  {
   "cell_type": "code",
   "execution_count": 356,
   "metadata": {},
   "outputs": [],
   "source": [
    "one_hot = pd.get_dummies(df['hang_dien_thoai'], prefix='hang_dien_thoai').astype(bool)\n",
    "df = pd.concat([df, one_hot], axis=1)\n",
    "one_hot = pd.get_dummies(df['loai_man_hinh'], prefix='loai_man_hinh').astype(bool)\n",
    "df = pd.concat([df, one_hot], axis=1)\n",
    "one_hot = pd.get_dummies(df['loai_pin'], prefix='loai_pin').astype(bool)\n",
    "df = pd.concat([df, one_hot], axis=1)\n",
    "\n",
    "df = df.drop(columns=['hang_dien_thoai', 'loai_man_hinh', 'loai_pin'])"
   ]
  },
  {
   "cell_type": "markdown",
   "metadata": {},
   "source": [
    "- Cột `la_dien_thoai_cu`:"
   ]
  },
  {
   "cell_type": "code",
   "execution_count": 357,
   "metadata": {},
   "outputs": [
    {
     "data": {
      "text/plain": [
       "array([False,  True])"
      ]
     },
     "execution_count": 357,
     "metadata": {},
     "output_type": "execute_result"
    }
   ],
   "source": [
    "df['la_dien_thoai_cu'].unique()"
   ]
  },
  {
   "cell_type": "markdown",
   "metadata": {},
   "source": [
    "- Nhận xét:\n",
    "    - Chuyển cột này bằng LabelEncoder."
   ]
  },
  {
   "cell_type": "code",
   "execution_count": 358,
   "metadata": {},
   "outputs": [],
   "source": [
    "# Khởi tạo LabelEncoder\n",
    "label_encoder = LabelEncoder()\n",
    "\n",
    "# Áp dụng LabelEncoder\n",
    "df['la_dien_thoai_cu'] = label_encoder.fit_transform(df['la_dien_thoai_cu'])"
   ]
  },
  {
   "cell_type": "code",
   "execution_count": 359,
   "metadata": {},
   "outputs": [
    {
     "data": {
      "text/plain": [
       "array([0, 1], dtype=int64)"
      ]
     },
     "execution_count": 359,
     "metadata": {},
     "output_type": "execute_result"
    }
   ],
   "source": [
    "df['la_dien_thoai_cu'].unique()"
   ]
  },
  {
   "cell_type": "markdown",
   "metadata": {},
   "source": [
    "##### Xem lại thông tin của bộ dữ liệu:"
   ]
  },
  {
   "cell_type": "code",
   "execution_count": 360,
   "metadata": {},
   "outputs": [
    {
     "name": "stdout",
     "output_type": "stream",
     "text": [
      "<class 'pandas.core.frame.DataFrame'>\n",
      "Int64Index: 1577 entries, 18 to 8532\n",
      "Data columns (total 51 columns):\n",
      " #   Column                     Non-Null Count  Dtype  \n",
      "---  ------                     --------------  -----  \n",
      " 0   ten                        1577 non-null   object \n",
      " 1   thoi_gian_bao_hanh         1577 non-null   float64\n",
      " 2   danh_gia                   1577 non-null   float64\n",
      " 3   so_luong_binh_luan         1577 non-null   int64  \n",
      " 4   gia_moi                    1577 non-null   float64\n",
      " 5   ram                        1577 non-null   float64\n",
      " 6   bo_nho_trong               1577 non-null   float64\n",
      " 7   dung_luong_pin             1577 non-null   float64\n",
      " 8   la_dien_thoai_cu           1577 non-null   int64  \n",
      " 9   kich_thuoc_man_hinh        1577 non-null   float64\n",
      " 10  tan_so_quet                1577 non-null   float64\n",
      " 11  so_the_sim                 1577 non-null   int64  \n",
      " 12  cong_suat_sac              1577 non-null   float64\n",
      " 13  do_phan_giai_cam_sau       1577 non-null   float64\n",
      " 14  do_phan_giai_cam_truoc     1577 non-null   float64\n",
      " 15  Android                    1577 non-null   int64  \n",
      " 16  iOS                        1577 non-null   int64  \n",
      " 17  hang_dien_thoai_Asus       1577 non-null   bool   \n",
      " 18  hang_dien_thoai_BLU        1577 non-null   bool   \n",
      " 19  hang_dien_thoai_Bphone     1577 non-null   bool   \n",
      " 20  hang_dien_thoai_Fairphone  1577 non-null   bool   \n",
      " 21  hang_dien_thoai_Google     1577 non-null   bool   \n",
      " 22  hang_dien_thoai_Honor      1577 non-null   bool   \n",
      " 23  hang_dien_thoai_Infinix    1577 non-null   bool   \n",
      " 24  hang_dien_thoai_Lenovo     1577 non-null   bool   \n",
      " 25  hang_dien_thoai_Meizu      1577 non-null   bool   \n",
      " 26  hang_dien_thoai_Motorola   1577 non-null   bool   \n",
      " 27  hang_dien_thoai_NIO        1577 non-null   bool   \n",
      " 28  hang_dien_thoai_Nothing    1577 non-null   bool   \n",
      " 29  hang_dien_thoai_Nubia      1577 non-null   bool   \n",
      " 30  hang_dien_thoai_OnePlus    1577 non-null   bool   \n",
      " 31  hang_dien_thoai_Oppo       1577 non-null   bool   \n",
      " 32  hang_dien_thoai_POCO       1577 non-null   bool   \n",
      " 33  hang_dien_thoai_Realme     1577 non-null   bool   \n",
      " 34  hang_dien_thoai_Red        1577 non-null   bool   \n",
      " 35  hang_dien_thoai_Samsung    1577 non-null   bool   \n",
      " 36  hang_dien_thoai_Sony       1577 non-null   bool   \n",
      " 37  hang_dien_thoai_Tecno      1577 non-null   bool   \n",
      " 38  hang_dien_thoai_Ulefone    1577 non-null   bool   \n",
      " 39  hang_dien_thoai_Unihertz   1577 non-null   bool   \n",
      " 40  hang_dien_thoai_Vivo       1577 non-null   bool   \n",
      " 41  hang_dien_thoai_Xiaomi     1577 non-null   bool   \n",
      " 42  hang_dien_thoai_ZTE        1577 non-null   bool   \n",
      " 43  hang_dien_thoai_iPhone     1577 non-null   bool   \n",
      " 44  hang_dien_thoai_itel       1577 non-null   bool   \n",
      " 45  loai_man_hinh_AMOLED       1577 non-null   bool   \n",
      " 46  loai_man_hinh_LCD          1577 non-null   bool   \n",
      " 47  loai_man_hinh_OLED         1577 non-null   bool   \n",
      " 48  loai_pin_Li-Ion            1577 non-null   bool   \n",
      " 49  loai_pin_Li-Po             1577 non-null   bool   \n",
      " 50  loai_pin_Si/C              1577 non-null   bool   \n",
      "dtypes: bool(34), float64(11), int64(5), object(1)\n",
      "memory usage: 274.1+ KB\n"
     ]
    }
   ],
   "source": [
    "df.info()"
   ]
  },
  {
   "cell_type": "code",
   "execution_count": 361,
   "metadata": {},
   "outputs": [],
   "source": [
    "import os\n",
    "\n",
    "save_dir = \"../data\"\n",
    "os.makedirs(save_dir, exist_ok=True)  # Tạo thư mục nếu chưa có\n",
    "\n",
    "df.to_csv(os.path.join(save_dir, \"cleaned_data.csv\"), index=False)  # Lưu dưới dạng CSV\n",
    "df = df.drop(columns=['ten'])"
   ]
  },
  {
   "cell_type": "markdown",
   "metadata": {},
   "source": [
    "##### Chúng ta đã chuyển đổi các cột non-numeric về numeric, vậy nên ta sẽ áp dụng tất cả thuộc tính này vào các mô hình."
   ]
  },
  {
   "cell_type": "markdown",
   "metadata": {},
   "source": [
    "## Tạo các mô hình:"
   ]
  },
  {
   "cell_type": "markdown",
   "metadata": {},
   "source": [
    "### Tạo DataFrame X và y:"
   ]
  },
  {
   "cell_type": "code",
   "execution_count": 362,
   "metadata": {},
   "outputs": [],
   "source": [
    "X = df.drop(columns=[\"gia_moi\"])\n",
    "y = df[\"gia_moi\"]"
   ]
  },
  {
   "cell_type": "markdown",
   "metadata": {},
   "source": [
    "### Chia dữ liệu thành tập huấn luyện và tập kiểm tra:"
   ]
  },
  {
   "cell_type": "code",
   "execution_count": 363,
   "metadata": {},
   "outputs": [],
   "source": [
    "X_train, X_test, y_train, y_test = train_test_split(X, y, test_size=1/3, random_state=42)"
   ]
  },
  {
   "cell_type": "markdown",
   "metadata": {},
   "source": [
    "### Model: `XGBRegressor`"
   ]
  },
  {
   "cell_type": "markdown",
   "metadata": {},
   "source": [
    "#### Lý do chọn:"
   ]
  },
  {
   "cell_type": "markdown",
   "metadata": {},
   "source": [
    "- Phù hợp với dữ liệu phức tạp: Bộ dữ liệu có **1,577 mẫu** và **50 đặc trưng** (11 số thực, 5 số nguyên, 34 nhị phân), đòi hỏi mô hình mạnh để xử lý tốt cả dữ liệu liên tục và nhị phân.\n",
    "\n",
    "- Khả năng phi tuyến: Nắm bắt được mối quan hệ phức tạp giữa các đặc trưng như `ram`, `bo_nho_trong`, và `dung_luong_pin`.\n",
    "\n",
    "- Chống overfitting: Với số lượng đặc trưng lớn, `XGBRegressor` sử dụng regularization và early stopping để kiểm soát độ phức tạp.\n",
    "\n",
    "- Hiệu quả tính toán: Tối ưu với song song hóa và xử lý dữ liệu thưa, phù hợp với tập dữ liệu vừa phải.\n",
    "\n",
    "- Dự đoán chính xác: Boosting giúp cải thiện lỗi, đặc biệt với bài toán dự đoán giá trị liên tục như giá điện thoại."
   ]
  },
  {
   "cell_type": "markdown",
   "metadata": {},
   "source": [
    "### Khởi tạo mô hình:"
   ]
  },
  {
   "cell_type": "code",
   "execution_count": 364,
   "metadata": {},
   "outputs": [],
   "source": [
    "model_1 = XGBRegressor()"
   ]
  },
  {
   "cell_type": "markdown",
   "metadata": {},
   "source": [
    "### Huấn luyện mô hình và tính thời gian:"
   ]
  },
  {
   "cell_type": "code",
   "execution_count": 365,
   "metadata": {},
   "outputs": [],
   "source": [
    "time_start = time.time()\n",
    "model_1.fit(X_train, y_train)\n",
    "time_end = time.time()"
   ]
  },
  {
   "cell_type": "code",
   "execution_count": 366,
   "metadata": {},
   "outputs": [
    {
     "name": "stdout",
     "output_type": "stream",
     "text": [
      "Training time: 0.18 seconds\n"
     ]
    }
   ],
   "source": [
    "training_time_model_1 = time_end - time_start\n",
    "print(f\"Training time: {training_time_model_1:.2f} seconds\")"
   ]
  },
  {
   "cell_type": "markdown",
   "metadata": {},
   "source": [
    "### Đánh giá mô hình:"
   ]
  },
  {
   "cell_type": "markdown",
   "metadata": {},
   "source": [
    "#### Dự đoán giá trị đầu ra trên tập dữ liệu kiểm tra bằng mô hình tốt nhất:"
   ]
  },
  {
   "cell_type": "code",
   "execution_count": 367,
   "metadata": {},
   "outputs": [],
   "source": [
    "y_pred_model_1 = model_1.predict(X_test)\n",
    "y_pred_model_1 = np.maximum(y_pred_model_1, 0)  # Đảm bảo giá không âm"
   ]
  },
  {
   "cell_type": "markdown",
   "metadata": {},
   "source": [
    "#### Tính toán các chỉ số đánh giá mô hình:"
   ]
  },
  {
   "cell_type": "code",
   "execution_count": 368,
   "metadata": {},
   "outputs": [],
   "source": [
    "mae_model_1 = mean_absolute_error(y_test, y_pred_model_1)\n",
    "mse_model_1 = mean_squared_error(y_test, y_pred_model_1)\n",
    "r2_model_1 = r2_score(y_test, y_pred_model_1)"
   ]
  },
  {
   "cell_type": "code",
   "execution_count": 369,
   "metadata": {},
   "outputs": [
    {
     "name": "stdout",
     "output_type": "stream",
     "text": [
      "Mean Absolute Error: 1165279.62\n",
      "Mean Squared Error: 4029285920587.60\n",
      "R^2: 0.90\n"
     ]
    }
   ],
   "source": [
    "print(f\"Mean Absolute Error: {mae_model_1:.2f}\")\n",
    "print(f\"Mean Squared Error: {mse_model_1:.2f}\")\n",
    "print(f\"R^2: {r2_model_1:.2f}\")"
   ]
  },
  {
   "cell_type": "markdown",
   "metadata": {},
   "source": [
    "#### Trực quan hóa:"
   ]
  },
  {
   "cell_type": "markdown",
   "metadata": {},
   "source": [
    "##### Vẽ biểu đồ so sánh giá trị thực tế và giá trị dự đoán:"
   ]
  },
  {
   "cell_type": "code",
   "execution_count": 370,
   "metadata": {},
   "outputs": [
    {
     "data": {
      "image/png": "[encoded data removed]",
      "text/plain": [
       "<Figure size 1000x600 with 1 Axes>"
      ]
     },
     "metadata": {},
     "output_type": "display_data"
    }
   ],
   "source": [
    "plt.figure(figsize=(10, 6))\n",
    "\n",
    "plt.scatter(y_test, y_pred_model_1)\n",
    "plt.xlabel('Actual values')\n",
    "plt.ylabel('Predicted values')\n",
    "plt.title('Predicted values vs Actual values (XGBoost)')\n",
    "\n",
    "plt.show()"
   ]
  },
  {
   "cell_type": "markdown",
   "metadata": {},
   "source": [
    "### Model: `DecisionTreeRegressor`"
   ]
  },
  {
   "cell_type": "markdown",
   "metadata": {},
   "source": [
    "#### Lý do chọn:"
   ]
  },
  {
   "cell_type": "markdown",
   "metadata": {},
   "source": [
    "- Dễ hiểu và trực quan:\n",
    "    - Cấu trúc cây quyết định đơn giản, dễ giải thích và trực quan hóa, phù hợp khi cần giải thích các yếu tố ảnh hưởng đến giá điện thoại.\n",
    "\n",
    "- Khả năng xử lý dữ liệu phức tạp:\n",
    "    - Bộ dữ liệu có **1,577 mẫu** và **50 đặc trưng** (11 số thực, 5 số nguyên, 34 nhị phân). `DecisionTreeRegressor` có thể xử lý tốt cả đặc trưng số và nhị phân mà không cần chuẩn hóa hay chuyển đổi phức tạp.\n",
    "\n",
    "- Mô hình phi tuyến:\n",
    "    - Cây quyết định có khả năng nắm bắt các mối quan hệ phi tuyến giữa các đặc trưng, ví dụ: sự kết hợp giữa `ram`, `bo_nho_trong`, và `dung_luong_pin` đến giá.\n",
    "\n",
    "- Không cần giả định dữ liệu:\n",
    "    - Không đòi hỏi giả định về phân phối dữ liệu hoặc mối quan hệ tuyến tính giữa các đặc trưng, phù hợp với tập dữ liệu thực tế có thể không tuyến tính.\n",
    "\n",
    "- Chống ảnh hưởng bởi đặc trưng không liên quan:\n",
    "    - Tự động chọn lọc các đặc trưng quan trọng (như kich_thuoc_man_hinh, tan_so_quet,...), giảm ảnh hưởng từ những đặc trưng ít liên quan đến giá.\n",
    "\n",
    "- Hiệu quả tính toán với tập dữ liệu nhỏ:\n",
    "    - Với 1,577 mẫu, `DecisionTreeRegressor` có thời gian huấn luyện nhanh, không đòi hỏi tài nguyên tính toán lớn."
   ]
  },
  {
   "cell_type": "markdown",
   "metadata": {},
   "source": [
    "### Khởi tạo mô hình:"
   ]
  },
  {
   "cell_type": "code",
   "execution_count": 371,
   "metadata": {},
   "outputs": [],
   "source": [
    "model_2 = DecisionTreeRegressor()"
   ]
  },
  {
   "cell_type": "markdown",
   "metadata": {},
   "source": [
    "### Huấn luyện mô hình và tính thời gian:"
   ]
  },
  {
   "cell_type": "code",
   "execution_count": 372,
   "metadata": {},
   "outputs": [],
   "source": [
    "time_start = time.time()\n",
    "model_2.fit(X_train, y_train)\n",
    "time_end = time.time()"
   ]
  },
  {
   "cell_type": "code",
   "execution_count": 373,
   "metadata": {},
   "outputs": [
    {
     "name": "stdout",
     "output_type": "stream",
     "text": [
      "Training time: 0.02 seconds\n"
     ]
    }
   ],
   "source": [
    "training_time_model_2 = time_end - time_start\n",
    "print(f\"Training time: {training_time_model_2:.2f} seconds\")"
   ]
  },
  {
   "cell_type": "markdown",
   "metadata": {},
   "source": [
    "### Đánh giá mô hình:"
   ]
  },
  {
   "cell_type": "markdown",
   "metadata": {},
   "source": [
    "#### Dự đoán giá trị đầu ra trên tập dữ liệu kiểm tra bằng mô hình tốt nhất:"
   ]
  },
  {
   "cell_type": "code",
   "execution_count": 374,
   "metadata": {},
   "outputs": [],
   "source": [
    "y_pred_model_2 = model_2.predict(X_test)\n",
    "y_pred_model_2 = np.maximum(y_pred_model_2, 0)  # Đảm bảo giá không âm"
   ]
  },
  {
   "cell_type": "markdown",
   "metadata": {},
   "source": [
    "#### Tính toán các chỉ số đánh giá mô hình:"
   ]
  },
  {
   "cell_type": "code",
   "execution_count": 375,
   "metadata": {},
   "outputs": [],
   "source": [
    "mae_model_2 = mean_absolute_error(y_test, y_pred_model_2)\n",
    "mse_model_2 = mean_squared_error(y_test, y_pred_model_2)\n",
    "r2_model_2 = r2_score(y_test, y_pred_model_2)"
   ]
  },
  {
   "cell_type": "code",
   "execution_count": 376,
   "metadata": {},
   "outputs": [
    {
     "name": "stdout",
     "output_type": "stream",
     "text": [
      "Mean Absolute Error: 1500828.90\n",
      "Mean Squared Error: 9179647182509.51\n",
      "R^2: 0.78\n"
     ]
    }
   ],
   "source": [
    "print(f\"Mean Absolute Error: {mae_model_2:.2f}\")\n",
    "print(f\"Mean Squared Error: {mse_model_2:.2f}\")\n",
    "print(f\"R^2: {r2_model_2:.2f}\")"
   ]
  },
  {
   "cell_type": "markdown",
   "metadata": {},
   "source": [
    "#### Trực quan hóa:"
   ]
  },
  {
   "cell_type": "markdown",
   "metadata": {},
   "source": [
    "##### Vẽ biểu đồ so sánh giá trị thực tế và giá trị dự đoán:"
   ]
  },
  {
   "cell_type": "code",
   "execution_count": 377,
   "metadata": {},
   "outputs": [
    {
     "data": {
      "image/png": "[encoded data removed]",
      "text/plain": [
       "<Figure size 1000x600 with 1 Axes>"
      ]
     },
     "metadata": {},
     "output_type": "display_data"
    }
   ],
   "source": [
    "plt.figure(figsize=(10, 6))\n",
    "\n",
    "plt.scatter(y_test, y_pred_model_2)\n",
    "plt.xlabel('Actual values')\n",
    "plt.ylabel('Predicted values')\n",
    "plt.title('Predicted values vs Actual values (DecisionTree)')\n",
    "\n",
    "plt.show()"
   ]
  },
  {
   "cell_type": "markdown",
   "metadata": {},
   "source": [
    "### Model: `RandomForestRegressor`"
   ]
  },
  {
   "cell_type": "markdown",
   "metadata": {},
   "source": [
    "#### Lý do chọn:"
   ]
  },
  {
   "cell_type": "markdown",
   "metadata": {},
   "source": [
    "- Hiệu quả trên dữ liệu phức tạp:\n",
    "    - Bộ dữ liệu có **1,577 mẫu** và **50 đặc trưng** (11 số thực, 5 số nguyên, 34 nhị phân). `RandomForestRegressor` có thể xử lý tốt cả đặc trưng liên tục và nhị phân.\n",
    "\n",
    "- Khả năng phi tuyến cao:\n",
    "    - `RandomForestRegressor` xây dựng nhiều cây quyết định và tổng hợp kết quả, cho phép nắm bắt tốt các mối quan hệ phi tuyến giữa các đặc trưng (như `ram`, `bo_nho_trong`, và `kich_thuoc_man_hinh`) đến giá.\n",
    "\n",
    "- Giảm overfitting:\n",
    "    - Random Forest giảm overfitting so với DecisionTreeRegressor bằng cách sử dụng kỹ thuật bagging (xây dựng nhiều cây trên các tập dữ liệu con ngẫu nhiên) và chọn ngẫu nhiên một tập con các đặc trưng tại mỗi nút phân chia.\n",
    "\n",
    "- Đánh giá tầm quan trọng của đặc trưng:\n",
    "    - `RandomForestRegressor` cung cấp thông tin về mức độ quan trọng của từng đặc trưng (như `dung_luong_pin`, `tan_so_quet`,...), giúp hiểu rõ yếu tố nào ảnh hưởng nhiều nhất đến giá điện thoại.\n",
    "\n",
    "- Hiệu suất tốt và khả năng mở rộng:\n",
    "    - Hoạt động hiệu quả trên tập dữ liệu vừa phải, đồng thời dễ mở rộng lên tập dữ liệu lớn nhờ tính song song của thuật toán.\n",
    "\n",
    "- Khả năng xử lý nhiễu và đặc trưng không liên quan:\n",
    "    - Do sử dụng trung bình kết quả từ nhiều cây, mô hình giảm độ nhạy với nhiễu và đặc trưng không liên quan, đảm bảo dự đoán ổn định hơn.\n",
    "\n",
    "- Không cần giả định dữ liệu:\n",
    "    - Không yêu cầu giả định về phân phối dữ liệu hay mối quan hệ giữa các đặc trưng, phù hợp với tập dữ liệu thực tế."
   ]
  },
  {
   "cell_type": "markdown",
   "metadata": {},
   "source": [
    "### Khởi tạo mô hình:"
   ]
  },
  {
   "cell_type": "code",
   "execution_count": 378,
   "metadata": {},
   "outputs": [],
   "source": [
    "model_3 = RandomForestRegressor()"
   ]
  },
  {
   "cell_type": "markdown",
   "metadata": {},
   "source": [
    "### Huấn luyện mô hình và tính thời gian:"
   ]
  },
  {
   "cell_type": "code",
   "execution_count": 379,
   "metadata": {},
   "outputs": [],
   "source": [
    "time_start = time.time()\n",
    "model_3.fit(X_train, y_train)\n",
    "time_end = time.time()"
   ]
  },
  {
   "cell_type": "code",
   "execution_count": 380,
   "metadata": {},
   "outputs": [
    {
     "name": "stdout",
     "output_type": "stream",
     "text": [
      "Training time: 0.81 seconds\n"
     ]
    }
   ],
   "source": [
    "training_time_model_3 = time_end - time_start\n",
    "print(f\"Training time: {training_time_model_3:.2f} seconds\")"
   ]
  },
  {
   "cell_type": "markdown",
   "metadata": {},
   "source": [
    "### Đánh giá mô hình:"
   ]
  },
  {
   "cell_type": "markdown",
   "metadata": {},
   "source": [
    "#### Dự đoán giá trị đầu ra trên tập dữ liệu kiểm tra bằng mô hình tốt nhất:"
   ]
  },
  {
   "cell_type": "code",
   "execution_count": 381,
   "metadata": {},
   "outputs": [],
   "source": [
    "y_pred_model_3 = model_3.predict(X_test)\n",
    "y_pred_model_3 = np.maximum(y_pred_model_3, 0)  # Đảm bảo giá không âm"
   ]
  },
  {
   "cell_type": "markdown",
   "metadata": {},
   "source": [
    "#### Tính toán các chỉ số đánh giá mô hình:"
   ]
  },
  {
   "cell_type": "code",
   "execution_count": 382,
   "metadata": {},
   "outputs": [],
   "source": [
    "mae_model_3 = mean_absolute_error(y_test, y_pred_model_3)\n",
    "mse_model_3 = mean_squared_error(y_test, y_pred_model_3)\n",
    "r2_model_3 = r2_score(y_test, y_pred_model_3)"
   ]
  },
  {
   "cell_type": "code",
   "execution_count": 383,
   "metadata": {},
   "outputs": [
    {
     "name": "stdout",
     "output_type": "stream",
     "text": [
      "Mean Absolute Error: 1288710.43\n",
      "Mean Squared Error: 5000292578434.52\n",
      "R^2: 0.88\n"
     ]
    }
   ],
   "source": [
    "print(f\"Mean Absolute Error: {mae_model_3:.2f}\")\n",
    "print(f\"Mean Squared Error: {mse_model_3:.2f}\")\n",
    "print(f\"R^2: {r2_model_3:.2f}\")"
   ]
  },
  {
   "cell_type": "markdown",
   "metadata": {},
   "source": [
    "#### Trực quan hóa:"
   ]
  },
  {
   "cell_type": "markdown",
   "metadata": {},
   "source": [
    "##### Vẽ biểu đồ so sánh giá trị thực tế và giá trị dự đoán:"
   ]
  },
  {
   "cell_type": "code",
   "execution_count": 384,
   "metadata": {},
   "outputs": [
    {
     "data": {
      "image/png": "[encoded data removed]",
      "text/plain": [
       "<Figure size 1000x600 with 1 Axes>"
      ]
     },
     "metadata": {},
     "output_type": "display_data"
    }
   ],
   "source": [
    "plt.figure(figsize=(10, 6))\n",
    "\n",
    "plt.scatter(y_test, y_pred_model_3)\n",
    "plt.xlabel('Actual values')\n",
    "plt.ylabel('Predicted values')\n",
    "plt.title('Predicted values vs Actual values (RandomForest)')\n",
    "\n",
    "plt.show()"
   ]
  },
  {
   "cell_type": "markdown",
   "metadata": {},
   "source": [
    "## Đánh giá các mô hình:"
   ]
  },
  {
   "cell_type": "markdown",
   "metadata": {},
   "source": [
    "### Tạo DataFrame lưu kết quả đánh giá của cả 3 mô hình:"
   ]
  },
  {
   "cell_type": "code",
   "execution_count": 385,
   "metadata": {},
   "outputs": [],
   "source": [
    "models_evaluation_df = pd.DataFrame({\n",
    "    \"Model\": [\"XGBoost\", \"DecisionTree\", \"RandomForest\"],\n",
    "    \"Training time\": [training_time_model_1, training_time_model_2, training_time_model_3],\n",
    "    \"Mean Absolute Error\": [mae_model_1, mae_model_2, mae_model_3],\n",
    "    \"Mean Squared Error\": [mse_model_1, mse_model_2, mse_model_3],\n",
    "    \"R^2\": [r2_model_1, r2_model_2, r2_model_3]\n",
    "})"
   ]
  },
  {
   "cell_type": "code",
   "execution_count": 386,
   "metadata": {},
   "outputs": [
    {
     "data": {
      "text/html": [
       "<div>\n",
       "<style scoped>\n",
       "    .dataframe tbody tr th:only-of-type {\n",
       "        vertical-align: middle;\n",
       "    }\n",
       "\n",
       "    .dataframe tbody tr th {\n",
       "        vertical-align: top;\n",
       "    }\n",
       "\n",
       "    .dataframe thead th {\n",
       "        text-align: right;\n",
       "    }\n",
       "</style>\n",
       "<table border=\"1\" class=\"dataframe\">\n",
       "  <thead>\n",
       "    <tr style=\"text-align: right;\">\n",
       "      <th></th>\n",
       "      <th>Model</th>\n",
       "      <th>Training time</th>\n",
       "      <th>Mean Absolute Error</th>\n",
       "      <th>Mean Squared Error</th>\n",
       "      <th>R^2</th>\n",
       "    </tr>\n",
       "  </thead>\n",
       "  <tbody>\n",
       "    <tr>\n",
       "      <th>0</th>\n",
       "      <td>XGBoost</td>\n",
       "      <td>0.181274</td>\n",
       "      <td>1.165280e+06</td>\n",
       "      <td>4.029286e+12</td>\n",
       "      <td>0.902306</td>\n",
       "    </tr>\n",
       "    <tr>\n",
       "      <th>1</th>\n",
       "      <td>DecisionTree</td>\n",
       "      <td>0.015114</td>\n",
       "      <td>1.500829e+06</td>\n",
       "      <td>9.179647e+12</td>\n",
       "      <td>0.777430</td>\n",
       "    </tr>\n",
       "    <tr>\n",
       "      <th>2</th>\n",
       "      <td>RandomForest</td>\n",
       "      <td>0.811868</td>\n",
       "      <td>1.288710e+06</td>\n",
       "      <td>5.000293e+12</td>\n",
       "      <td>0.878763</td>\n",
       "    </tr>\n",
       "  </tbody>\n",
       "</table>\n",
       "</div>"
      ],
      "text/plain": [
       "          Model  Training time  Mean Absolute Error  Mean Squared Error  \\\n",
       "0       XGBoost       0.181274         1.165280e+06        4.029286e+12   \n",
       "1  DecisionTree       0.015114         1.500829e+06        9.179647e+12   \n",
       "2  RandomForest       0.811868         1.288710e+06        5.000293e+12   \n",
       "\n",
       "        R^2  \n",
       "0  0.902306  \n",
       "1  0.777430  \n",
       "2  0.878763  "
      ]
     },
     "execution_count": 386,
     "metadata": {},
     "output_type": "execute_result"
    }
   ],
   "source": [
    "models_evaluation_df"
   ]
  },
  {
   "cell_type": "markdown",
   "metadata": {},
   "source": [
    "### Trực quan hóa từng chỉ số đánh giá của các mô hình:"
   ]
  },
  {
   "cell_type": "markdown",
   "metadata": {},
   "source": [
    "#### 1. Thời gian huấn luyện:"
   ]
  },
  {
   "cell_type": "code",
   "execution_count": 387,
   "metadata": {},
   "outputs": [
    {
     "data": {
      "image/png": "[encoded data removed]",
      "text/plain": [
       "<Figure size 1000x500 with 1 Axes>"
      ]
     },
     "metadata": {},
     "output_type": "display_data"
    }
   ],
   "source": [
    "ax = models_evaluation_df.plot(x='Model', y='Training time', kind='bar', figsize=(10, 5))\n",
    "ax.set_title('Training time of each algorithm')\n",
    "ax.set_xticklabels(labels=models_evaluation_df['Model'], rotation=0)\n",
    "ax.grid(axis='y', linestyle='--', alpha=0.6)\n",
    "plt.bar_label(ax.containers[0]);"
   ]
  },
  {
   "cell_type": "markdown",
   "metadata": {},
   "source": [
    "##### Nhận xét:"
   ]
  },
  {
   "cell_type": "markdown",
   "metadata": {},
   "source": [
    "1. **DecisionTreeRegressor (0.01 giây)**:  \n",
    "   - Đây là mô hình có thời gian huấn luyện nhanh nhất, do chỉ xây dựng một cây quyết định. Điều này phù hợp với đặc điểm của Decision Tree, vốn là thuật toán đơn giản, hiệu quả và ít tốn tài nguyên tính toán.\n",
    "   - Tuy nhiên, nhược điểm là dễ bị overfitting, đặc biệt với dữ liệu có nhiều đặc trưng và mối quan hệ phức tạp.\n",
    "\n",
    "2. **XGBoost (0.146 giây)**:  \n",
    "   - XGBoost có thời gian huấn luyện dài hơn Decision Tree nhưng vẫn nhanh và tối ưu, nhờ khả năng song song hóa và tối ưu thuật toán Gradient Boosting.\n",
    "   - Mặc dù thời gian huấn luyện cao hơn Decision Tree, XGBoost thường đạt hiệu suất tốt hơn, đặc biệt với bài toán hồi quy nhờ khả năng học từ lỗi của các mô hình trước đó.\n",
    "\n",
    "3. **RandomForestRegressor (0.575 giây)**:  \n",
    "   - Random Forest có thời gian huấn luyện dài nhất do phải xây dựng và tổng hợp kết quả từ nhiều cây quyết định. Tuy nhiên, điều này mang lại tính ổn định và giảm overfitting so với Decision Tree.\n",
    "   - Với bộ dữ liệu cỡ trung bình (~1,577 mẫu), thời gian này vẫn chấp nhận được, nhưng đối với tập dữ liệu lớn hơn, có thể cần điều chỉnh số lượng cây hoặc tăng cường tài nguyên tính toán."
   ]
  },
  {
   "cell_type": "markdown",
   "metadata": {},
   "source": [
    "#### 2. Mean Absolute Error (MAE):"
   ]
  },
  {
   "cell_type": "code",
   "execution_count": 388,
   "metadata": {},
   "outputs": [
    {
     "data": {
      "image/png": "[encoded data removed]",
      "text/plain": [
       "<Figure size 1000x500 with 1 Axes>"
      ]
     },
     "metadata": {},
     "output_type": "display_data"
    }
   ],
   "source": [
    "ax = models_evaluation_df.plot(x='Model', y='Mean Absolute Error', kind='bar', figsize=(10, 5))\n",
    "ax.set_title('Mean Absolute Error (MAE) of each algorithm')\n",
    "ax.set_xticklabels(labels=models_evaluation_df['Model'], rotation=0)\n",
    "ax.grid(axis='y', linestyle='--', alpha=0.6)\n",
    "plt.bar_label(ax.containers[0]);"
   ]
  },
  {
   "cell_type": "markdown",
   "metadata": {},
   "source": [
    "##### Nhận xét:"
   ]
  },
  {
   "cell_type": "markdown",
   "metadata": {},
   "source": [
    "1. **XGBoost (1.165 triệu)**:  \n",
    "   - Đây là mô hình có MAE thấp nhất, cho thấy XGBoost dự đoán gần đúng giá trị thực hơn so với các mô hình còn lại.  \n",
    "   - XGBoost thường đạt hiệu suất cao nhờ khả năng học từ lỗi của các mô hình trước đó trong quá trình boosting, đồng thời nắm bắt tốt các mối quan hệ phi tuyến giữa các đặc trưng.\n",
    "\n",
    "2. **DecisionTreeRegressor (1.6 triệu)**:  \n",
    "   - Decision Tree có MAE cao nhất trong số các mô hình, cho thấy dự đoán ít chính xác hơn.  \n",
    "   - Nguyên nhân chính là Decision Tree dễ bị overfitting khi hoạt động độc lập, dẫn đến hiệu suất không ổn định, đặc biệt với dữ liệu kiểm tra.\n",
    "\n",
    "3. **RandomForestRegressor (1.316 triệu)**:  \n",
    "   - Random Forest đạt MAE trung bình, tốt hơn Decision Tree nhưng kém XGBoost.  \n",
    "   - Việc tổng hợp nhiều cây giúp Random Forest ổn định hơn so với một Decision Tree đơn lẻ, nhưng hiệu quả vẫn thua XGBoost vì không tối ưu hóa lỗi giữa các cây như boosting."
   ]
  },
  {
   "cell_type": "markdown",
   "metadata": {},
   "source": [
    "#### 3. Mean Squared Error (MSE):"
   ]
  },
  {
   "cell_type": "code",
   "execution_count": 389,
   "metadata": {},
   "outputs": [
    {
     "data": {
      "image/png": "[encoded data removed]",
      "text/plain": [
       "<Figure size 1000x500 with 1 Axes>"
      ]
     },
     "metadata": {},
     "output_type": "display_data"
    }
   ],
   "source": [
    "ax = models_evaluation_df.plot(x='Model', y='Mean Squared Error', kind='bar', figsize=(10, 5))\n",
    "ax.set_title('Mean Squared Error (MSE) of each algorithm')\n",
    "ax.set_xticklabels(labels=models_evaluation_df['Model'], rotation=0)\n",
    "ax.grid(axis='y', linestyle='--', alpha=0.6)\n",
    "plt.bar_label(ax.containers[0]);"
   ]
  },
  {
   "cell_type": "markdown",
   "metadata": {},
   "source": [
    "##### Nhận xét:"
   ]
  },
  {
   "cell_type": "markdown",
   "metadata": {},
   "source": [
    "1. **XGBoost (4.03 × 10¹²)**:  \n",
    "   - **MSE thấp nhất**, cho thấy XGBoost có độ chính xác cao và dự đoán sát với giá trị thực hơn so với các mô hình khác.  \n",
    "   - XGBoost tối ưu hóa lỗi dựa trên boosting, nên thường vượt trội trong các bài toán hồi quy nhờ giảm thiểu lỗi dự đoán ở từng bước học.\n",
    "\n",
    "2. **DecisionTreeRegressor (1.126 × 10¹³)**:  \n",
    "   - **MSE cao nhất**, gấp hơn 2 lần XGBoost, cho thấy Decision Tree có sai số lớn hơn đáng kể.  \n",
    "   - Nguyên nhân chính có thể là do Decision Tree dễ bị overfitting khi hoạt động độc lập, dẫn đến dự đoán kém chính xác trên tập kiểm tra.\n",
    "\n",
    "3. **RandomForestRegressor (5.18 × 10¹²)**:  \n",
    "   - MSE của Random Forest cao hơn XGBoost nhưng thấp hơn Decision Tree, nhờ việc sử dụng nhiều cây quyết định và tổng hợp kết quả, giúp cải thiện độ chính xác và giảm sai số.  \n",
    "   - Tuy nhiên, Random Forest không tối ưu hóa lỗi tuần tự như XGBoost, nên hiệu suất vẫn kém hơn."
   ]
  },
  {
   "cell_type": "markdown",
   "metadata": {},
   "source": [
    "#### 4. R2 Score:"
   ]
  },
  {
   "cell_type": "code",
   "execution_count": 390,
   "metadata": {},
   "outputs": [
    {
     "data": {
      "image/png": "[encoded data removed]",
      "text/plain": [
       "<Figure size 1000x500 with 1 Axes>"
      ]
     },
     "metadata": {},
     "output_type": "display_data"
    }
   ],
   "source": [
    "ax = models_evaluation_df.plot(x='Model', y='R^2', kind='bar', figsize=(10, 5))\n",
    "ax.set_title('R^2 of each algorithm')\n",
    "ax.set_xticklabels(labels=models_evaluation_df['Model'], rotation=0)\n",
    "ax.grid(axis='y', linestyle='--', alpha=0.6)\n",
    "plt.bar_label(ax.containers[0]);"
   ]
  },
  {
   "cell_type": "markdown",
   "metadata": {},
   "source": [
    "##### Nhận xét:"
   ]
  },
  {
   "cell_type": "markdown",
   "metadata": {},
   "source": [
    "1. **XGBoost (0.9023)**:  \n",
    "   - **R² cao nhất**, cho thấy XGBoost giải thích được 90.23% phương sai của biến mục tiêu `gia_moi` dựa trên các đặc trưng đầu vào.  \n",
    "   - Điều này thể hiện XGBoost là mô hình hiệu quả nhất trong việc dự đoán giá điện thoại, nhờ khả năng nắm bắt tốt các mối quan hệ phức tạp giữa các đặc trưng.\n",
    "\n",
    "2. **DecisionTreeRegressor (0.727)**:  \n",
    "   - R² thấp nhất (72.7%), cho thấy mô hình chỉ giải thích được một phần phương sai của biến mục tiêu.  \n",
    "   - Điều này phản ánh hạn chế của Decision Tree khi sử dụng một cây quyết định duy nhất, dễ bị overfitting và kém chính xác trên tập kiểm tra.\n",
    "\n",
    "3. **RandomForestRegressor (0.8745)**:  \n",
    "   - R² cao thứ hai (87.45%), gần với XGBoost nhưng thấp hơn một chút.  \n",
    "   - Random Forest cải thiện đáng kể so với Decision Tree bằng cách tổng hợp nhiều cây, giúp giảm overfitting và tăng khả năng giải thích phương sai của biến mục tiêu."
   ]
  },
  {
   "cell_type": "markdown",
   "metadata": {},
   "source": [
    "### Kết luận:"
   ]
  },
  {
   "cell_type": "markdown",
   "metadata": {},
   "source": [
    "1. **XGBoost**:  \n",
    "   - **Hiệu suất vượt trội** trên tất cả các chỉ số: MAE thấp nhất, MSE thấp nhất, và R² cao nhất.  \n",
    "   - **Ưu điểm**: Thời gian huấn luyện nhanh, khả năng dự đoán chính xác và phù hợp cho bài toán có nhiều đặc trưng và mối quan hệ phi tuyến phức tạp như dự đoán giá điện thoại.  \n",
    "   - **Nhược điểm**: Cần một chút tinh chỉnh để đạt hiệu suất tối ưu.  \n",
    "   - **Kết luận**: Là lựa chọn tốt nhất cho bài toán này, khi cân nhắc cả thời gian huấn luyện và độ chính xác.\n",
    "\n",
    "2. **Random Forest**:  \n",
    "   - **Hiệu suất trung bình**: MAE và MSE thấp hơn Decision Tree nhưng kém XGBoost, R² đạt gần với XGBoost.  \n",
    "   - **Ưu điểm**: Dự đoán ổn định nhờ tổng hợp nhiều cây quyết định, giảm thiểu overfitting so với Decision Tree.  \n",
    "   - **Nhược điểm**: Thời gian huấn luyện cao nhất, dễ bị chậm nếu dữ liệu lớn hoặc số cây quá nhiều.  \n",
    "   - **Kết luận**: Là lựa chọn tốt nếu cần mô hình dễ triển khai và ổn định, dù độ chính xác kém hơn XGBoost.\n",
    "\n",
    "3. **Decision Tree**:  \n",
    "   - **Hiệu suất thấp nhất**: MAE và MSE cao nhất, R² thấp nhất, cho thấy dự đoán kém chính xác và ít giải thích được phương sai của biến mục tiêu.  \n",
    "   - **Ưu điểm**: Thời gian huấn luyện cực nhanh, mô hình đơn giản và dễ hiểu, phù hợp với bài toán cần giải pháp nhanh chóng và dễ diễn giải.  \n",
    "   - **Nhược điểm**: Dễ bị overfitting, kém chính xác trên tập kiểm tra, đặc biệt với dữ liệu phức tạp.  \n",
    "   - **Kết luận**: Phù hợp nếu ưu tiên tốc độ huấn luyện hoặc cần mô hình đơn giản để giải thích, nhưng không phù hợp cho bài toán đòi hỏi độ chính xác cao.\n",
    "\n",
    "### Tổng kết:\n",
    "- **Ưu tiên chính xác và hiệu quả**: Chọn **XGBoost**.  \n",
    "- **Ưu tiên ổn định và dễ triển khai**: Chọn **Random Forest**.  \n",
    "- **Ưu tiên tốc độ và sự đơn giản**: Chọn **Decision Tree**.  \n",
    "\n",
    "Với yêu cầu dự đoán giá điện thoại, **XGBoost** là lựa chọn tối ưu nhất."
   ]
  }
 ],
 "metadata": {
  "kernelspec": {
   "display_name": "min_ds-env2",
   "language": "python",
   "name": "python3"
  },
  "language_info": {
   "codemirror_mode": {
    "name": "ipython",
    "version": 3
   },
   "file_extension": ".py",
   "mimetype": "text/x-python",
   "name": "python",
   "nbconvert_exporter": "python",
   "pygments_lexer": "ipython3",
   "version": "3.10.8"
  }
 },
 "nbformat": 4,
 "nbformat_minor": 2
}
